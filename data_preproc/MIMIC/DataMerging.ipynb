{
 "cells": [
  {
   "cell_type": "markdown",
   "metadata": {},
   "source": [
    "# Merging of the different MIMIC data sources\n",
    "\n",
    "##### This file takes as inputs : \n",
    "\n",
    "-LAB_processed (from notebook LabEvents) with the pre-selected and cleaned lab measurements of the patients\n",
    "\n",
    "-INPUTS_processed (from notebook Admissions) with the pre-selected and cleaned inputs to the patients\n",
    "\n",
    "-Admissions_processed (from the notebook Admissions) with the death label of the patients\n",
    "\n",
    "-Diagnoses_ICD with the ICD9 codes of each patient.\n",
    "\n",
    "##### This notebook outputs :\n",
    "\n",
    "-death_tags.csv. A dataframe with the patient id and the corresponding death label\n",
    "\n",
    "-complete_tensor_csv. A dataframe containing all the measurments in tensor version.\n",
    "\n",
    "-complete_tensor_train.csv. A dataframe containing all the training measurments in tensor version.\n",
    "\n",
    "-complete_tensor_val.csv. A dataframe containing all the validation measurments in tensor version.\n",
    "\n",
    "-complete_covariates.csv. A dataframe with the ICD9 covariates codes (binary) of each patient index."
   ]
  },
  {
   "cell_type": "code",
   "execution_count": 61,
   "metadata": {},
   "outputs": [],
   "source": [
    "import pandas as pd\n",
    "import matplotlib.pyplot as plt\n",
    "from sklearn.model_selection import train_test_split\n",
    "\n",
    "import datetime\n",
    "from datetime import timedelta\n",
    "import numpy as np\n",
    "\n",
    "import torch\n",
    "\n",
    "file_path=\"~/data/mimic/mimic-iii-clinical-database-1.4/unzipped/\"\n",
    "outfile_path=\"~/data/mimic/mimic-iii-clinical-database-1.4/unzipped/Clean_data/\""
   ]
  },
  {
   "cell_type": "code",
   "execution_count": 2,
   "metadata": {
    "scrolled": true
   },
   "outputs": [
    {
     "name": "stderr",
     "output_type": "stream",
     "text": [
      "/home/hlzhou/helen/envs/py3env/lib/python3.6/site-packages/IPython/core/interactiveshell.py:3058: DtypeWarning: Columns (6,9) have mixed types. Specify dtype option on import or set low_memory=False.\n",
      "  interactivity=interactivity, compiler=compiler, result=result)\n",
      "/home/hlzhou/helen/envs/py3env/lib/python3.6/site-packages/IPython/core/interactiveshell.py:3058: DtypeWarning: Columns (12) have mixed types. Specify dtype option on import or set low_memory=False.\n",
      "  interactivity=interactivity, compiler=compiler, result=result)\n",
      "/home/hlzhou/helen/envs/py3env/lib/python3.6/site-packages/IPython/core/interactiveshell.py:3058: DtypeWarning: Columns (12,17) have mixed types. Specify dtype option on import or set low_memory=False.\n",
      "  interactivity=interactivity, compiler=compiler, result=result)\n"
     ]
    }
   ],
   "source": [
    "lab_df=pd.read_csv(file_path+\"LAB_processed.csv\")[[\"SUBJECT_ID\",\"HADM_ID\",\"CHARTTIME\",\"VALUENUM\",\"LABEL\"]]\n",
    "inputs_df=pd.read_csv(file_path+\"INPUTS_processed.csv\")[[\"SUBJECT_ID\",\"HADM_ID\",\"CHARTTIME\",\"AMOUNT\",\"LABEL\"]]\n",
    "outputs_df=pd.read_csv(file_path+\"OUTPUTS_processed.csv\")[[\"SUBJECT_ID\",\"HADM_ID\",\"CHARTTIME\",\"VALUE\",\"LABEL\"]]\n",
    "presc_df=pd.read_csv(file_path+\"PRESCRIPTIONS_processed.csv\")[[\"SUBJECT_ID\",\"HADM_ID\",\"CHARTTIME\",\"DOSE_VAL_RX\",\"DRUG\"]]"
   ]
  },
  {
   "cell_type": "code",
   "execution_count": 3,
   "metadata": {},
   "outputs": [
    {
     "name": "stderr",
     "output_type": "stream",
     "text": [
      "/home/hlzhou/helen/envs/py3env/lib/python3.6/site-packages/pandas/core/frame.py:7123: FutureWarning: Sorting because non-concatenation axis is not aligned. A future version\n",
      "of pandas will change to not sort by default.\n",
      "\n",
      "To accept the future behavior, pass 'sort=False'.\n",
      "\n",
      "To retain the current behavior and silence the warning, pass 'sort=True'.\n",
      "\n",
      "  sort=sort,\n"
     ]
    }
   ],
   "source": [
    "#Process names of columns to have the same everywhere.\n",
    "\n",
    "#Change the name of amount. Valuenum for every table\n",
    "inputs_df[\"VALUENUM\"]=inputs_df[\"AMOUNT\"]\n",
    "inputs_df.head()\n",
    "inputs_df=inputs_df.drop(columns=[\"AMOUNT\"]).copy()\n",
    "\n",
    "#Change the name of amount. Valuenum for every table\n",
    "outputs_df[\"VALUENUM\"]=outputs_df[\"VALUE\"]\n",
    "outputs_df=outputs_df.drop(columns=[\"VALUE\"]).copy()\n",
    "\n",
    "#Change the name of amount. Valuenum for every table\n",
    "presc_df[\"VALUENUM\"]=presc_df[\"DOSE_VAL_RX\"]\n",
    "presc_df=presc_df.drop(columns=[\"DOSE_VAL_RX\"]).copy()\n",
    "presc_df[\"LABEL\"]=presc_df[\"DRUG\"]\n",
    "presc_df=presc_df.drop(columns=[\"DRUG\"]).copy()\n",
    "\n",
    "\n",
    "#Tag to distinguish between lab and inputs events\n",
    "inputs_df[\"Origin\"]=\"Inputs\"\n",
    "lab_df[\"Origin\"]=\"Lab\"\n",
    "outputs_df[\"Origin\"]=\"Outputs\"\n",
    "presc_df[\"Origin\"]=\"Prescriptions\"\n",
    "\n",
    "\n",
    "#merge both dfs.\n",
    "merged_df1=(inputs_df.append(lab_df)).reset_index()\n",
    "merged_df2=(merged_df1.append(outputs_df)).reset_index()\n",
    "merged_df2.drop(columns=\"level_0\",inplace=True)\n",
    "merged_df=(merged_df2.append(presc_df)).reset_index()\n",
    "\n",
    "#merged_df=lab_df.reset_index()\n",
    "\n",
    "#Check that all labels have different names.\n",
    "assert(merged_df[\"LABEL\"].nunique()==(inputs_df[\"LABEL\"].nunique()+lab_df[\"LABEL\"].nunique()+outputs_df[\"LABEL\"].nunique()+presc_df[\"LABEL\"].nunique()))\n"
   ]
  },
  {
   "cell_type": "code",
   "execution_count": 4,
   "metadata": {},
   "outputs": [
    {
     "data": {
      "text/html": [
       "<div>\n",
       "<style scoped>\n",
       "    .dataframe tbody tr th:only-of-type {\n",
       "        vertical-align: middle;\n",
       "    }\n",
       "\n",
       "    .dataframe tbody tr th {\n",
       "        vertical-align: top;\n",
       "    }\n",
       "\n",
       "    .dataframe thead th {\n",
       "        text-align: right;\n",
       "    }\n",
       "</style>\n",
       "<table border=\"1\" class=\"dataframe\">\n",
       "  <thead>\n",
       "    <tr style=\"text-align: right;\">\n",
       "      <th></th>\n",
       "      <th>level_0</th>\n",
       "      <th>CHARTTIME</th>\n",
       "      <th>HADM_ID</th>\n",
       "      <th>LABEL</th>\n",
       "      <th>Origin</th>\n",
       "      <th>SUBJECT_ID</th>\n",
       "      <th>VALUENUM</th>\n",
       "      <th>index</th>\n",
       "    </tr>\n",
       "  </thead>\n",
       "  <tbody>\n",
       "    <tr>\n",
       "      <td>0</td>\n",
       "      <td>0</td>\n",
       "      <td>2133-02-05 06:29:00</td>\n",
       "      <td>139787.0</td>\n",
       "      <td>Potassium Chloride</td>\n",
       "      <td>Inputs</td>\n",
       "      <td>27063</td>\n",
       "      <td>1.354906</td>\n",
       "      <td>0.0</td>\n",
       "    </tr>\n",
       "    <tr>\n",
       "      <td>1</td>\n",
       "      <td>1</td>\n",
       "      <td>2133-02-05 06:59:00</td>\n",
       "      <td>139787.0</td>\n",
       "      <td>Potassium Chloride</td>\n",
       "      <td>Inputs</td>\n",
       "      <td>27063</td>\n",
       "      <td>1.354906</td>\n",
       "      <td>1.0</td>\n",
       "    </tr>\n",
       "    <tr>\n",
       "      <td>2</td>\n",
       "      <td>2</td>\n",
       "      <td>2133-02-05 07:29:00</td>\n",
       "      <td>139787.0</td>\n",
       "      <td>Potassium Chloride</td>\n",
       "      <td>Inputs</td>\n",
       "      <td>27063</td>\n",
       "      <td>1.354906</td>\n",
       "      <td>2.0</td>\n",
       "    </tr>\n",
       "    <tr>\n",
       "      <td>3</td>\n",
       "      <td>3</td>\n",
       "      <td>2133-02-05 07:59:00</td>\n",
       "      <td>139787.0</td>\n",
       "      <td>Potassium Chloride</td>\n",
       "      <td>Inputs</td>\n",
       "      <td>27063</td>\n",
       "      <td>1.354906</td>\n",
       "      <td>3.0</td>\n",
       "    </tr>\n",
       "    <tr>\n",
       "      <td>4</td>\n",
       "      <td>4</td>\n",
       "      <td>2133-02-05 08:29:00</td>\n",
       "      <td>139787.0</td>\n",
       "      <td>Potassium Chloride</td>\n",
       "      <td>Inputs</td>\n",
       "      <td>27063</td>\n",
       "      <td>1.354906</td>\n",
       "      <td>4.0</td>\n",
       "    </tr>\n",
       "  </tbody>\n",
       "</table>\n",
       "</div>"
      ],
      "text/plain": [
       "   level_0            CHARTTIME   HADM_ID               LABEL  Origin  \\\n",
       "0        0  2133-02-05 06:29:00  139787.0  Potassium Chloride  Inputs   \n",
       "1        1  2133-02-05 06:59:00  139787.0  Potassium Chloride  Inputs   \n",
       "2        2  2133-02-05 07:29:00  139787.0  Potassium Chloride  Inputs   \n",
       "3        3  2133-02-05 07:59:00  139787.0  Potassium Chloride  Inputs   \n",
       "4        4  2133-02-05 08:29:00  139787.0  Potassium Chloride  Inputs   \n",
       "\n",
       "   SUBJECT_ID  VALUENUM  index  \n",
       "0       27063  1.354906    0.0  \n",
       "1       27063  1.354906    1.0  \n",
       "2       27063  1.354906    2.0  \n",
       "3       27063  1.354906    3.0  \n",
       "4       27063  1.354906    4.0  "
      ]
     },
     "execution_count": 4,
     "metadata": {},
     "output_type": "execute_result"
    }
   ],
   "source": [
    "merged_df.head()"
   ]
  },
  {
   "cell_type": "code",
   "execution_count": 5,
   "metadata": {},
   "outputs": [],
   "source": [
    "#Set the reference time as the lowest chart time for each admission.\n",
    "merged_df['CHARTTIME']=pd.to_datetime(merged_df[\"CHARTTIME\"], format='%Y-%m-%d %H:%M:%S')\n",
    "ref_time=merged_df.groupby(\"HADM_ID\")[\"CHARTTIME\"].min()\n",
    "\n",
    "merged_df_1=pd.merge(ref_time.to_frame(name=\"REF_TIME\"),merged_df,left_index=True,right_on=\"HADM_ID\")\n",
    "merged_df_1[\"TIME_STAMP\"]=merged_df_1[\"CHARTTIME\"]-merged_df_1[\"REF_TIME\"]\n",
    "assert(len(merged_df_1.loc[merged_df_1[\"TIME_STAMP\"]<timedelta(hours=0)].index)==0)"
   ]
  },
  {
   "cell_type": "code",
   "execution_count": 6,
   "metadata": {},
   "outputs": [],
   "source": [
    "#Create a label code (int) for the labels.\n",
    "label_dict=dict(zip(list(merged_df_1[\"LABEL\"].unique()),range(len(list(merged_df_1[\"LABEL\"].unique())))))\n",
    "merged_df_1[\"LABEL_CODE\"]=merged_df_1[\"LABEL\"].map(label_dict)\n",
    "\n",
    "merged_df_short=merged_df_1[[\"HADM_ID\",\"VALUENUM\",\"TIME_STAMP\",\"LABEL_CODE\",\"Origin\"]]\n",
    "\n",
    "#To do : store the label dictionnary in a csv file."
   ]
  },
  {
   "cell_type": "code",
   "execution_count": 7,
   "metadata": {},
   "outputs": [],
   "source": [
    "label_dict_df=pd.Series(merged_df_1[\"LABEL\"].unique()).reset_index()\n",
    "label_dict_df.columns=[\"index\",\"LABEL\"]\n",
    "label_dict_df[\"LABEL_CODE\"]=label_dict_df[\"LABEL\"].map(label_dict)\n",
    "label_dict_df.drop(columns=[\"index\"],inplace=True)\n",
    "label_dict_df.to_csv(outfile_path+\"label_dict.csv\")"
   ]
  },
  {
   "cell_type": "markdown",
   "metadata": {},
   "source": [
    "#### Time binning of the data\n",
    "First we select the data up to a certain time limit (48 hours)"
   ]
  },
  {
   "cell_type": "code",
   "execution_count": 8,
   "metadata": {},
   "outputs": [
    {
     "name": "stdout",
     "output_type": "stream",
     "text": [
      "Number of patients considered :23457\n"
     ]
    }
   ],
   "source": [
    "#Now only select values within 48 hours.\n",
    "merged_df_short=merged_df_short.loc[(merged_df_short[\"TIME_STAMP\"]<timedelta(hours=48))]\n",
    "print(\"Number of patients considered :\"+str(merged_df_short[\"HADM_ID\"].nunique()))"
   ]
  },
  {
   "cell_type": "code",
   "execution_count": 9,
   "metadata": {},
   "outputs": [
    {
     "data": {
      "image/png": "[encoded data removed]",
      "text/plain": [
       "<Figure size 432x288 with 1 Axes>"
      ]
     },
     "metadata": {
      "needs_background": "light"
     },
     "output_type": "display_data"
    }
   ],
   "source": [
    "#Plot the number of \"hits\" based on the binning. That is, the number of measurements falling into the same bin in function of the number of bins\n",
    "bins_num=range(1,60)\n",
    "merged_df_short_binned=merged_df_short.copy()\n",
    "hits_vec=[]\n",
    "for bin_k in bins_num:\n",
    "    time_stamp_str=\"TIME_STAMP_Bin_\"+str(bin_k)\n",
    "    merged_df_short_binned[time_stamp_str]=round(merged_df_short_binned[\"TIME_STAMP\"].dt.total_seconds()*bin_k/(100*36)).astype(int)\n",
    "    hits_prop=merged_df_short_binned.duplicated(subset=[\"HADM_ID\",\"LABEL_CODE\",time_stamp_str]).sum()/len(merged_df_short_binned.index)\n",
    "    hits_vec+=[hits_prop]\n",
    "plt.plot(bins_num,hits_vec)\n",
    "plt.title(\"Percentage of hits in function of the binning factor\")\n",
    "plt.xlabel(\"Number of bins/hour\")\n",
    "plt.ylabel(\"% of hits\")\n",
    "plt.show()"
   ]
  },
  {
   "cell_type": "code",
   "execution_count": 10,
   "metadata": {},
   "outputs": [],
   "source": [
    "#We choose 60 bins per hour. We now need to aggregate the data in different ways.\n",
    "bin_k=60\n",
    "merged_df_short[\"TIME\"]=round(merged_df_short_binned[\"TIME_STAMP\"].dt.total_seconds()*bin_k/(100*36)).astype(int)\n",
    "\n",
    "#For lab, we have to average the duplicates.\n",
    "lab_subset=merged_df_short.loc[merged_df_short[\"Origin\"]==\"Lab\",[\"HADM_ID\",\"TIME\",\"LABEL_CODE\",\"VALUENUM\"]]\n",
    "lab_subset[\"KEY_ID\"]=lab_subset[\"HADM_ID\"].astype(str)+\"/\"+lab_subset[\"TIME\"].astype(str)+\"/\"+lab_subset[\"LABEL_CODE\"].astype(str)\n",
    "lab_subset[\"VALUENUM\"]=lab_subset[\"VALUENUM\"].astype(float)\n",
    "\n",
    "lab_subset_s=lab_subset.groupby(\"KEY_ID\")[\"VALUENUM\"].mean().to_frame().reset_index()\n",
    "\n",
    "lab_subset.rename(inplace=True,columns={\"VALUENUM\":\"ExVALUENUM\"})\n",
    "lab_s=pd.merge(lab_subset,lab_subset_s,on=\"KEY_ID\")\n",
    "assert(not lab_s.isnull().values.any())\n",
    "\n",
    "#For inputs, we have to sum the duplicates.\n",
    "input_subset=merged_df_short.loc[merged_df_short[\"Origin\"]==\"Inputs\",[\"HADM_ID\",\"TIME\",\"LABEL_CODE\",\"VALUENUM\"]]\n",
    "input_subset[\"KEY_ID\"]=input_subset[\"HADM_ID\"].astype(str)+\"/\"+input_subset[\"TIME\"].astype(str)+\"/\"+input_subset[\"LABEL_CODE\"].astype(str)\n",
    "input_subset[\"VALUENUM\"]=input_subset[\"VALUENUM\"].astype(float)\n",
    "\n",
    "input_subset_s=input_subset.groupby(\"KEY_ID\")[\"VALUENUM\"].sum().to_frame().reset_index()\n",
    "\n",
    "input_subset.rename(inplace=True,columns={\"VALUENUM\":\"ExVALUENUM\"})\n",
    "input_s=pd.merge(input_subset,input_subset_s,on=\"KEY_ID\")\n",
    "assert(not input_s.isnull().values.any())\n",
    "\n",
    "#For outpus, we have to sum the duplicates as well.\n",
    "output_subset=merged_df_short.loc[merged_df_short[\"Origin\"]==\"Outputs\",[\"HADM_ID\",\"TIME\",\"LABEL_CODE\",\"VALUENUM\"]]\n",
    "output_subset[\"KEY_ID\"]=output_subset[\"HADM_ID\"].astype(str)+\"/\"+output_subset[\"TIME\"].astype(str)+\"/\"+output_subset[\"LABEL_CODE\"].astype(str)\n",
    "output_subset[\"VALUENUM\"]=output_subset[\"VALUENUM\"].astype(float)\n",
    "\n",
    "output_subset_s=output_subset.groupby(\"KEY_ID\")[\"VALUENUM\"].sum().to_frame().reset_index()\n",
    "\n",
    "output_subset.rename(inplace=True,columns={\"VALUENUM\":\"ExVALUENUM\"})\n",
    "output_s=pd.merge(output_subset,output_subset_s,on=\"KEY_ID\")\n",
    "assert(not output_s.isnull().values.any())\n",
    "\n",
    "#For prescriptions, we have to sum the duplicates as well.\n",
    "presc_subset=merged_df_short.loc[merged_df_short[\"Origin\"]==\"Prescriptions\",[\"HADM_ID\",\"TIME\",\"LABEL_CODE\",\"VALUENUM\"]]\n",
    "presc_subset[\"KEY_ID\"]=presc_subset[\"HADM_ID\"].astype(str)+\"/\"+presc_subset[\"TIME\"].astype(str)+\"/\"+presc_subset[\"LABEL_CODE\"].astype(str)\n",
    "presc_subset[\"VALUENUM\"]=presc_subset[\"VALUENUM\"].astype(float)\n",
    "\n",
    "presc_subset_s=presc_subset.groupby(\"KEY_ID\")[\"VALUENUM\"].sum().to_frame().reset_index()\n",
    "\n",
    "presc_subset.rename(inplace=True,columns={\"VALUENUM\":\"ExVALUENUM\"})\n",
    "presc_s=pd.merge(presc_subset,presc_subset_s,on=\"KEY_ID\")\n",
    "assert(not presc_s.isnull().values.any())\n",
    "\n",
    "#Now remove the duplicates/\n",
    "lab_s=(lab_s.drop_duplicates(subset=[\"HADM_ID\",\"LABEL_CODE\",\"TIME\"]))[[\"HADM_ID\",\"TIME\",\"LABEL_CODE\",\"VALUENUM\"]].copy()\n",
    "input_s=(input_s.drop_duplicates(subset=[\"HADM_ID\",\"LABEL_CODE\",\"TIME\"]))[[\"HADM_ID\",\"TIME\",\"LABEL_CODE\",\"VALUENUM\"]].copy()\n",
    "output_s=(output_s.drop_duplicates(subset=[\"HADM_ID\",\"LABEL_CODE\",\"TIME\"]))[[\"HADM_ID\",\"TIME\",\"LABEL_CODE\",\"VALUENUM\"]].copy()\n",
    "presc_s=(presc_s.drop_duplicates(subset=[\"HADM_ID\",\"LABEL_CODE\",\"TIME\"]))[[\"HADM_ID\",\"TIME\",\"LABEL_CODE\",\"VALUENUM\"]].copy()\n",
    "\n",
    "#We append both subsets together to form the complete dataframe\n",
    "complete_df1=lab_s.append(input_s)\n",
    "complete_df2=complete_df1.append(output_s)\n",
    "complete_df=complete_df2.append(presc_s)\n",
    "\n",
    "\n",
    "assert(sum(complete_df.duplicated(subset=[\"HADM_ID\",\"LABEL_CODE\",\"TIME\"])==True)==0) #Check if no duplicates anymore.\n",
    "\n",
    "# We remove patients with less than 50 observations.\n",
    "id_counts=complete_df.groupby(\"HADM_ID\").count()\n",
    "id_list=list(id_counts.loc[id_counts[\"TIME\"]<50].index)\n",
    "complete_df=complete_df.drop(complete_df.loc[complete_df[\"HADM_ID\"].isin(id_list)].index).copy()"
   ]
  },
  {
   "cell_type": "code",
   "execution_count": 11,
   "metadata": {},
   "outputs": [],
   "source": [
    "#We also choose 10 bins per hour. We now need to aggregate the data in different ways.\n",
    "bin_k=10\n",
    "merged_df_short[\"TIME\"]=round(merged_df_short_binned[\"TIME_STAMP\"].dt.total_seconds()*bin_k/(100*36))\n",
    "\n",
    "#For lab, we have to average the duplicates.\n",
    "lab_subset=merged_df_short.loc[merged_df_short[\"Origin\"]==\"Lab\",[\"HADM_ID\",\"TIME\",\"LABEL_CODE\",\"VALUENUM\"]]\n",
    "lab_subset[\"KEY_ID\"]=lab_subset[\"HADM_ID\"].astype(str)+\"/\"+lab_subset[\"TIME\"].astype(str)+\"/\"+lab_subset[\"LABEL_CODE\"].astype(str)\n",
    "lab_subset[\"VALUENUM\"]=lab_subset[\"VALUENUM\"].astype(float)\n",
    "\n",
    "lab_subset_s=lab_subset.groupby(\"KEY_ID\")[\"VALUENUM\"].mean().to_frame().reset_index()\n",
    "\n",
    "lab_subset.rename(inplace=True,columns={\"VALUENUM\":\"ExVALUENUM\"})\n",
    "lab_s=pd.merge(lab_subset,lab_subset_s,on=\"KEY_ID\")\n",
    "assert(not lab_s.isnull().values.any())\n",
    "\n",
    "#For inputs, we have to sum the duplicates.\n",
    "input_subset=merged_df_short.loc[merged_df_short[\"Origin\"]==\"Inputs\",[\"HADM_ID\",\"TIME\",\"LABEL_CODE\",\"VALUENUM\"]]\n",
    "input_subset[\"KEY_ID\"]=input_subset[\"HADM_ID\"].astype(str)+\"/\"+input_subset[\"TIME\"].astype(str)+\"/\"+input_subset[\"LABEL_CODE\"].astype(str)\n",
    "input_subset[\"VALUENUM\"]=input_subset[\"VALUENUM\"].astype(float)\n",
    "\n",
    "input_subset_s=input_subset.groupby(\"KEY_ID\")[\"VALUENUM\"].sum().to_frame().reset_index()\n",
    "\n",
    "input_subset.rename(inplace=True,columns={\"VALUENUM\":\"ExVALUENUM\"})\n",
    "input_s=pd.merge(input_subset,input_subset_s,on=\"KEY_ID\")\n",
    "assert(not input_s.isnull().values.any())\n",
    "\n",
    "#For outpus, we have to sum the duplicates as well.\n",
    "output_subset=merged_df_short.loc[merged_df_short[\"Origin\"]==\"Outputs\",[\"HADM_ID\",\"TIME\",\"LABEL_CODE\",\"VALUENUM\"]]\n",
    "output_subset[\"KEY_ID\"]=output_subset[\"HADM_ID\"].astype(str)+\"/\"+output_subset[\"TIME\"].astype(str)+\"/\"+output_subset[\"LABEL_CODE\"].astype(str)\n",
    "output_subset[\"VALUENUM\"]=output_subset[\"VALUENUM\"].astype(float)\n",
    "\n",
    "output_subset_s=output_subset.groupby(\"KEY_ID\")[\"VALUENUM\"].sum().to_frame().reset_index()\n",
    "\n",
    "output_subset.rename(inplace=True,columns={\"VALUENUM\":\"ExVALUENUM\"})\n",
    "output_s=pd.merge(output_subset,output_subset_s,on=\"KEY_ID\")\n",
    "assert(not output_s.isnull().values.any())\n",
    "\n",
    "#For prescriptions, we have to sum the duplicates as well.\n",
    "presc_subset=merged_df_short.loc[merged_df_short[\"Origin\"]==\"Prescriptions\",[\"HADM_ID\",\"TIME\",\"LABEL_CODE\",\"VALUENUM\"]]\n",
    "presc_subset[\"KEY_ID\"]=presc_subset[\"HADM_ID\"].astype(str)+\"/\"+presc_subset[\"TIME\"].astype(str)+\"/\"+presc_subset[\"LABEL_CODE\"].astype(str)\n",
    "presc_subset[\"VALUENUM\"]=presc_subset[\"VALUENUM\"].astype(float)\n",
    "\n",
    "presc_subset_s=presc_subset.groupby(\"KEY_ID\")[\"VALUENUM\"].sum().to_frame().reset_index()\n",
    "\n",
    "presc_subset.rename(inplace=True,columns={\"VALUENUM\":\"ExVALUENUM\"})\n",
    "presc_s=pd.merge(presc_subset,presc_subset_s,on=\"KEY_ID\")\n",
    "assert(not presc_s.isnull().values.any())\n",
    "\n",
    "#Now remove the duplicates/\n",
    "lab_s=(lab_s.drop_duplicates(subset=[\"HADM_ID\",\"LABEL_CODE\",\"TIME\"]))[[\"HADM_ID\",\"TIME\",\"LABEL_CODE\",\"VALUENUM\"]].copy()\n",
    "input_s=(input_s.drop_duplicates(subset=[\"HADM_ID\",\"LABEL_CODE\",\"TIME\"]))[[\"HADM_ID\",\"TIME\",\"LABEL_CODE\",\"VALUENUM\"]].copy()\n",
    "output_s=(output_s.drop_duplicates(subset=[\"HADM_ID\",\"LABEL_CODE\",\"TIME\"]))[[\"HADM_ID\",\"TIME\",\"LABEL_CODE\",\"VALUENUM\"]].copy()\n",
    "presc_s=(presc_s.drop_duplicates(subset=[\"HADM_ID\",\"LABEL_CODE\",\"TIME\"]))[[\"HADM_ID\",\"TIME\",\"LABEL_CODE\",\"VALUENUM\"]].copy()\n",
    "\n",
    "#We append both subsets together to form the complete dataframe\n",
    "complete_df1=lab_s.append(input_s)\n",
    "complete_df2=complete_df1.append(output_s)\n",
    "complete_df10=complete_df2.append(presc_s)\n",
    "\n",
    "\n",
    "assert(sum(complete_df10.duplicated(subset=[\"HADM_ID\",\"LABEL_CODE\",\"TIME\"])==True)==0) #Check if no duplicates anymore.\n",
    "\n",
    "# We remove patients with less than 50 observations.\n",
    "id_counts=complete_df10.groupby(\"HADM_ID\").count()\n",
    "id_list=list(id_counts.loc[id_counts[\"TIME\"]<50].index)\n",
    "complete_df10=complete_df10.drop(complete_df10.loc[complete_df10[\"HADM_ID\"].isin(id_list)].index).copy()"
   ]
  },
  {
   "cell_type": "code",
   "execution_count": 12,
   "metadata": {},
   "outputs": [
    {
     "data": {
      "text/html": [
       "<div>\n",
       "<style scoped>\n",
       "    .dataframe tbody tr th:only-of-type {\n",
       "        vertical-align: middle;\n",
       "    }\n",
       "\n",
       "    .dataframe tbody tr th {\n",
       "        vertical-align: top;\n",
       "    }\n",
       "\n",
       "    .dataframe thead th {\n",
       "        text-align: right;\n",
       "    }\n",
       "</style>\n",
       "<table border=\"1\" class=\"dataframe\">\n",
       "  <thead>\n",
       "    <tr style=\"text-align: right;\">\n",
       "      <th></th>\n",
       "      <th>subject_id</th>\n",
       "      <th>hadm_id</th>\n",
       "      <th>icustay_id</th>\n",
       "      <th>sapsii</th>\n",
       "      <th>sapsii_prob</th>\n",
       "      <th>age_score</th>\n",
       "      <th>hr_score</th>\n",
       "      <th>sysbp_score</th>\n",
       "      <th>temp_score</th>\n",
       "      <th>pao2fio2_score</th>\n",
       "      <th>...</th>\n",
       "      <th>bun_score</th>\n",
       "      <th>wbc_score</th>\n",
       "      <th>potassium_score</th>\n",
       "      <th>sodium_score</th>\n",
       "      <th>bicarbonate_score</th>\n",
       "      <th>bilirubin_score</th>\n",
       "      <th>gcs_score</th>\n",
       "      <th>comorbidity_score</th>\n",
       "      <th>admissiontype_score</th>\n",
       "      <th>HADM_ID</th>\n",
       "    </tr>\n",
       "  </thead>\n",
       "  <tbody>\n",
       "    <tr>\n",
       "      <td>1</td>\n",
       "      <td>27513</td>\n",
       "      <td>163557</td>\n",
       "      <td>200003</td>\n",
       "      <td>30</td>\n",
       "      <td>0.106398</td>\n",
       "      <td>7</td>\n",
       "      <td>4.0</td>\n",
       "      <td>5.0</td>\n",
       "      <td>0.0</td>\n",
       "      <td>NaN</td>\n",
       "      <td>...</td>\n",
       "      <td>0.0</td>\n",
       "      <td>3.0</td>\n",
       "      <td>0.0</td>\n",
       "      <td>0.0</td>\n",
       "      <td>3.0</td>\n",
       "      <td>0.0</td>\n",
       "      <td>0.0</td>\n",
       "      <td>0</td>\n",
       "      <td>8</td>\n",
       "      <td>163557</td>\n",
       "    </tr>\n",
       "    <tr>\n",
       "      <td>3</td>\n",
       "      <td>20707</td>\n",
       "      <td>129310</td>\n",
       "      <td>200007</td>\n",
       "      <td>18</td>\n",
       "      <td>0.029295</td>\n",
       "      <td>7</td>\n",
       "      <td>0.0</td>\n",
       "      <td>5.0</td>\n",
       "      <td>0.0</td>\n",
       "      <td>NaN</td>\n",
       "      <td>...</td>\n",
       "      <td>0.0</td>\n",
       "      <td>0.0</td>\n",
       "      <td>0.0</td>\n",
       "      <td>0.0</td>\n",
       "      <td>0.0</td>\n",
       "      <td>NaN</td>\n",
       "      <td>0.0</td>\n",
       "      <td>0</td>\n",
       "      <td>6</td>\n",
       "      <td>129310</td>\n",
       "    </tr>\n",
       "    <tr>\n",
       "      <td>8</td>\n",
       "      <td>9514</td>\n",
       "      <td>127229</td>\n",
       "      <td>200014</td>\n",
       "      <td>43</td>\n",
       "      <td>0.305597</td>\n",
       "      <td>18</td>\n",
       "      <td>2.0</td>\n",
       "      <td>5.0</td>\n",
       "      <td>0.0</td>\n",
       "      <td>6.0</td>\n",
       "      <td>...</td>\n",
       "      <td>0.0</td>\n",
       "      <td>0.0</td>\n",
       "      <td>0.0</td>\n",
       "      <td>0.0</td>\n",
       "      <td>0.0</td>\n",
       "      <td>0.0</td>\n",
       "      <td>0.0</td>\n",
       "      <td>0</td>\n",
       "      <td>8</td>\n",
       "      <td>127229</td>\n",
       "    </tr>\n",
       "    <tr>\n",
       "      <td>16</td>\n",
       "      <td>76603</td>\n",
       "      <td>179633</td>\n",
       "      <td>200024</td>\n",
       "      <td>52</td>\n",
       "      <td>0.507019</td>\n",
       "      <td>18</td>\n",
       "      <td>4.0</td>\n",
       "      <td>5.0</td>\n",
       "      <td>0.0</td>\n",
       "      <td>6.0</td>\n",
       "      <td>...</td>\n",
       "      <td>6.0</td>\n",
       "      <td>0.0</td>\n",
       "      <td>3.0</td>\n",
       "      <td>1.0</td>\n",
       "      <td>3.0</td>\n",
       "      <td>NaN</td>\n",
       "      <td>0.0</td>\n",
       "      <td>0</td>\n",
       "      <td>6</td>\n",
       "      <td>179633</td>\n",
       "    </tr>\n",
       "    <tr>\n",
       "      <td>17</td>\n",
       "      <td>19167</td>\n",
       "      <td>164161</td>\n",
       "      <td>200025</td>\n",
       "      <td>29</td>\n",
       "      <td>0.096698</td>\n",
       "      <td>7</td>\n",
       "      <td>0.0</td>\n",
       "      <td>5.0</td>\n",
       "      <td>0.0</td>\n",
       "      <td>6.0</td>\n",
       "      <td>...</td>\n",
       "      <td>0.0</td>\n",
       "      <td>0.0</td>\n",
       "      <td>3.0</td>\n",
       "      <td>0.0</td>\n",
       "      <td>0.0</td>\n",
       "      <td>NaN</td>\n",
       "      <td>0.0</td>\n",
       "      <td>0</td>\n",
       "      <td>8</td>\n",
       "      <td>164161</td>\n",
       "    </tr>\n",
       "  </tbody>\n",
       "</table>\n",
       "<p>5 rows × 21 columns</p>\n",
       "</div>"
      ],
      "text/plain": [
       "    subject_id  hadm_id  icustay_id  sapsii  sapsii_prob  age_score  hr_score  \\\n",
       "1        27513   163557      200003      30     0.106398          7       4.0   \n",
       "3        20707   129310      200007      18     0.029295          7       0.0   \n",
       "8         9514   127229      200014      43     0.305597         18       2.0   \n",
       "16       76603   179633      200024      52     0.507019         18       4.0   \n",
       "17       19167   164161      200025      29     0.096698          7       0.0   \n",
       "\n",
       "    sysbp_score  temp_score  pao2fio2_score  ...  bun_score  wbc_score  \\\n",
       "1           5.0         0.0             NaN  ...        0.0        3.0   \n",
       "3           5.0         0.0             NaN  ...        0.0        0.0   \n",
       "8           5.0         0.0             6.0  ...        0.0        0.0   \n",
       "16          5.0         0.0             6.0  ...        6.0        0.0   \n",
       "17          5.0         0.0             6.0  ...        0.0        0.0   \n",
       "\n",
       "    potassium_score  sodium_score  bicarbonate_score  bilirubin_score  \\\n",
       "1               0.0           0.0                3.0              0.0   \n",
       "3               0.0           0.0                0.0              NaN   \n",
       "8               0.0           0.0                0.0              0.0   \n",
       "16              3.0           1.0                3.0              NaN   \n",
       "17              3.0           0.0                0.0              NaN   \n",
       "\n",
       "    gcs_score  comorbidity_score  admissiontype_score  HADM_ID  \n",
       "1         0.0                  0                    8   163557  \n",
       "3         0.0                  0                    6   129310  \n",
       "8         0.0                  0                    8   127229  \n",
       "16        0.0                  0                    6   179633  \n",
       "17        0.0                  0                    8   164161  \n",
       "\n",
       "[5 rows x 21 columns]"
      ]
     },
     "execution_count": 12,
     "metadata": {},
     "output_type": "execute_result"
    }
   ],
   "source": [
    "# SAPSII data\n",
    "saps=pd.read_csv(file_path + 'saps2.csv')\n",
    "valid_hadm_id=complete_df[\"HADM_ID\"].unique()\n",
    "saps=saps.loc[saps[\"hadm_id\"].isin(list(valid_hadm_id))].copy()\n",
    "saps[\"HADM_ID\"]=saps[\"hadm_id\"]\n",
    "saps.head()"
   ]
  },
  {
   "cell_type": "code",
   "execution_count": 13,
   "metadata": {},
   "outputs": [],
   "source": [
    "saps[\"SUM_score\"]=saps[[ 'hr_score', 'sysbp_score', 'temp_score', 'pao2fio2_score','uo_score', 'bun_score', 'wbc_score', 'potassium_score', 'sodium_score','bicarbonate_score', 'bilirubin_score', 'gcs_score']].sum(axis=1)\n",
    "saps[\"X\"]=-7.7631 + 0.0737 * saps[\"SUM_score\"] + 0.9971 * (np.log(saps[\"SUM_score\"] + 1))\n",
    "saps[\"PROB\"]=np.exp(saps[\"X\"])/(1+np.exp(saps[\"X\"]))"
   ]
  },
  {
   "cell_type": "code",
   "execution_count": 14,
   "metadata": {},
   "outputs": [
    {
     "data": {
      "text/html": [
       "<div>\n",
       "<style scoped>\n",
       "    .dataframe tbody tr th:only-of-type {\n",
       "        vertical-align: middle;\n",
       "    }\n",
       "\n",
       "    .dataframe tbody tr th {\n",
       "        vertical-align: top;\n",
       "    }\n",
       "\n",
       "    .dataframe thead th {\n",
       "        text-align: right;\n",
       "    }\n",
       "</style>\n",
       "<table border=\"1\" class=\"dataframe\">\n",
       "  <thead>\n",
       "    <tr style=\"text-align: right;\">\n",
       "      <th></th>\n",
       "      <th>subject_id</th>\n",
       "      <th>hadm_id</th>\n",
       "      <th>icustay_id</th>\n",
       "      <th>sapsii</th>\n",
       "      <th>sapsii_prob</th>\n",
       "      <th>age_score</th>\n",
       "      <th>hr_score</th>\n",
       "      <th>sysbp_score</th>\n",
       "      <th>temp_score</th>\n",
       "      <th>pao2fio2_score</th>\n",
       "      <th>...</th>\n",
       "      <th>sodium_score</th>\n",
       "      <th>bicarbonate_score</th>\n",
       "      <th>bilirubin_score</th>\n",
       "      <th>gcs_score</th>\n",
       "      <th>comorbidity_score</th>\n",
       "      <th>admissiontype_score</th>\n",
       "      <th>HADM_ID</th>\n",
       "      <th>SUM_score</th>\n",
       "      <th>X</th>\n",
       "      <th>PROB</th>\n",
       "    </tr>\n",
       "  </thead>\n",
       "  <tbody>\n",
       "    <tr>\n",
       "      <td>1</td>\n",
       "      <td>27513</td>\n",
       "      <td>163557</td>\n",
       "      <td>200003</td>\n",
       "      <td>30</td>\n",
       "      <td>0.106398</td>\n",
       "      <td>7</td>\n",
       "      <td>4.0</td>\n",
       "      <td>5.0</td>\n",
       "      <td>0.0</td>\n",
       "      <td>NaN</td>\n",
       "      <td>...</td>\n",
       "      <td>0.0</td>\n",
       "      <td>3.0</td>\n",
       "      <td>0.0</td>\n",
       "      <td>0.0</td>\n",
       "      <td>0</td>\n",
       "      <td>8</td>\n",
       "      <td>163557</td>\n",
       "      <td>15.0</td>\n",
       "      <td>-3.893052</td>\n",
       "      <td>0.019976</td>\n",
       "    </tr>\n",
       "    <tr>\n",
       "      <td>3</td>\n",
       "      <td>20707</td>\n",
       "      <td>129310</td>\n",
       "      <td>200007</td>\n",
       "      <td>18</td>\n",
       "      <td>0.029295</td>\n",
       "      <td>7</td>\n",
       "      <td>0.0</td>\n",
       "      <td>5.0</td>\n",
       "      <td>0.0</td>\n",
       "      <td>NaN</td>\n",
       "      <td>...</td>\n",
       "      <td>0.0</td>\n",
       "      <td>0.0</td>\n",
       "      <td>NaN</td>\n",
       "      <td>0.0</td>\n",
       "      <td>0</td>\n",
       "      <td>6</td>\n",
       "      <td>129310</td>\n",
       "      <td>5.0</td>\n",
       "      <td>-5.608037</td>\n",
       "      <td>0.003655</td>\n",
       "    </tr>\n",
       "    <tr>\n",
       "      <td>8</td>\n",
       "      <td>9514</td>\n",
       "      <td>127229</td>\n",
       "      <td>200014</td>\n",
       "      <td>43</td>\n",
       "      <td>0.305597</td>\n",
       "      <td>18</td>\n",
       "      <td>2.0</td>\n",
       "      <td>5.0</td>\n",
       "      <td>0.0</td>\n",
       "      <td>6.0</td>\n",
       "      <td>...</td>\n",
       "      <td>0.0</td>\n",
       "      <td>0.0</td>\n",
       "      <td>0.0</td>\n",
       "      <td>0.0</td>\n",
       "      <td>0</td>\n",
       "      <td>8</td>\n",
       "      <td>127229</td>\n",
       "      <td>17.0</td>\n",
       "      <td>-3.628210</td>\n",
       "      <td>0.025876</td>\n",
       "    </tr>\n",
       "    <tr>\n",
       "      <td>16</td>\n",
       "      <td>76603</td>\n",
       "      <td>179633</td>\n",
       "      <td>200024</td>\n",
       "      <td>52</td>\n",
       "      <td>0.507019</td>\n",
       "      <td>18</td>\n",
       "      <td>4.0</td>\n",
       "      <td>5.0</td>\n",
       "      <td>0.0</td>\n",
       "      <td>6.0</td>\n",
       "      <td>...</td>\n",
       "      <td>1.0</td>\n",
       "      <td>3.0</td>\n",
       "      <td>NaN</td>\n",
       "      <td>0.0</td>\n",
       "      <td>0</td>\n",
       "      <td>6</td>\n",
       "      <td>179633</td>\n",
       "      <td>28.0</td>\n",
       "      <td>-2.341969</td>\n",
       "      <td>0.087706</td>\n",
       "    </tr>\n",
       "    <tr>\n",
       "      <td>17</td>\n",
       "      <td>19167</td>\n",
       "      <td>164161</td>\n",
       "      <td>200025</td>\n",
       "      <td>29</td>\n",
       "      <td>0.096698</td>\n",
       "      <td>7</td>\n",
       "      <td>0.0</td>\n",
       "      <td>5.0</td>\n",
       "      <td>0.0</td>\n",
       "      <td>6.0</td>\n",
       "      <td>...</td>\n",
       "      <td>0.0</td>\n",
       "      <td>0.0</td>\n",
       "      <td>NaN</td>\n",
       "      <td>0.0</td>\n",
       "      <td>0</td>\n",
       "      <td>8</td>\n",
       "      <td>164161</td>\n",
       "      <td>14.0</td>\n",
       "      <td>-4.031103</td>\n",
       "      <td>0.017445</td>\n",
       "    </tr>\n",
       "  </tbody>\n",
       "</table>\n",
       "<p>5 rows × 24 columns</p>\n",
       "</div>"
      ],
      "text/plain": [
       "    subject_id  hadm_id  icustay_id  sapsii  sapsii_prob  age_score  hr_score  \\\n",
       "1        27513   163557      200003      30     0.106398          7       4.0   \n",
       "3        20707   129310      200007      18     0.029295          7       0.0   \n",
       "8         9514   127229      200014      43     0.305597         18       2.0   \n",
       "16       76603   179633      200024      52     0.507019         18       4.0   \n",
       "17       19167   164161      200025      29     0.096698          7       0.0   \n",
       "\n",
       "    sysbp_score  temp_score  pao2fio2_score  ...  sodium_score  \\\n",
       "1           5.0         0.0             NaN  ...           0.0   \n",
       "3           5.0         0.0             NaN  ...           0.0   \n",
       "8           5.0         0.0             6.0  ...           0.0   \n",
       "16          5.0         0.0             6.0  ...           1.0   \n",
       "17          5.0         0.0             6.0  ...           0.0   \n",
       "\n",
       "    bicarbonate_score  bilirubin_score  gcs_score  comorbidity_score  \\\n",
       "1                 3.0              0.0        0.0                  0   \n",
       "3                 0.0              NaN        0.0                  0   \n",
       "8                 0.0              0.0        0.0                  0   \n",
       "16                3.0              NaN        0.0                  0   \n",
       "17                0.0              NaN        0.0                  0   \n",
       "\n",
       "    admissiontype_score  HADM_ID  SUM_score         X      PROB  \n",
       "1                     8   163557       15.0 -3.893052  0.019976  \n",
       "3                     6   129310        5.0 -5.608037  0.003655  \n",
       "8                     8   127229       17.0 -3.628210  0.025876  \n",
       "16                    6   179633       28.0 -2.341969  0.087706  \n",
       "17                    8   164161       14.0 -4.031103  0.017445  \n",
       "\n",
       "[5 rows x 24 columns]"
      ]
     },
     "execution_count": 14,
     "metadata": {},
     "output_type": "execute_result"
    }
   ],
   "source": [
    "saps.head()"
   ]
  },
  {
   "cell_type": "code",
   "execution_count": 15,
   "metadata": {},
   "outputs": [],
   "source": [
    "saps.to_csv(file_path+\"sapsii_processed.csv\")"
   ]
  },
  {
   "cell_type": "code",
   "execution_count": 17,
   "metadata": {},
   "outputs": [],
   "source": [
    "death_tags_df = pd.read_csv(file_path + 'death_tags.csv')\n",
    "saps_death=pd.merge(death_tags_df,saps,on=\"HADM_ID\")\n",
    "y_pred=np.array(saps_death[\"PROB\"])\n",
    "y_pred_full=np.array(saps_death[\"sapsii_prob\"])\n",
    "y=np.array(saps_death[\"DEATHTAG\"])"
   ]
  },
  {
   "cell_type": "code",
   "execution_count": 18,
   "metadata": {},
   "outputs": [
    {
     "name": "stdout",
     "output_type": "stream",
     "text": [
      "0.7567250834372204\n",
      "0.8017395294906322\n"
     ]
    }
   ],
   "source": [
    "from sklearn.metrics import roc_auc_score\n",
    "print(roc_auc_score(y,y_pred))\n",
    "print(roc_auc_score(y,y_pred_full))"
   ]
  },
  {
   "cell_type": "code",
   "execution_count": 19,
   "metadata": {},
   "outputs": [
    {
     "data": {
      "text/plain": [
       "480.0"
      ]
     },
     "execution_count": 19,
     "metadata": {},
     "output_type": "execute_result"
    }
   ],
   "source": [
    "complete_df10[\"TIME\"].max()"
   ]
  },
  {
   "cell_type": "code",
   "execution_count": null,
   "metadata": {},
   "outputs": [],
   "source": [
    "\n"
   ]
  },
  {
   "cell_type": "markdown",
   "metadata": {},
   "source": [
    "# Dataframe creation for Tensor Decomposition\n",
    "\n",
    "Creation of a unique index for the admissions id."
   ]
  },
  {
   "cell_type": "code",
   "execution_count": 20,
   "metadata": {},
   "outputs": [],
   "source": [
    "#Creation of a unique index\n",
    "unique_ids=np.arange(complete_df[\"HADM_ID\"].nunique())\n",
    "np.random.shuffle(unique_ids)\n",
    "d=dict(zip(complete_df[\"HADM_ID\"].unique(),unique_ids))\n"
   ]
  },
  {
   "cell_type": "code",
   "execution_count": 21,
   "metadata": {},
   "outputs": [
    {
     "ename": "FileNotFoundError",
     "evalue": "[Errno 2] File b'/home/hlzhou/data/mimic/mimic-iii-clinical-database-1.4/unzipped/Clean_data/UNIQUE_ID_dict.csv' does not exist: b'/home/hlzhou/data/mimic/mimic-iii-clinical-database-1.4/unzipped/Clean_data/UNIQUE_ID_dict.csv'",
     "output_type": "error",
     "traceback": [
      "\u001b[0;31m-----------------------------------------------------\u001b[0m",
      "\u001b[0;31mFileNotFoundError\u001b[0m   Traceback (most recent call last)",
      "\u001b[0;32m<ipython-input-21-e079cad4119b>\u001b[0m in \u001b[0;36m<module>\u001b[0;34m\u001b[0m\n\u001b[0;32m----> 1\u001b[0;31m \u001b[0munique_id_df\u001b[0m   \u001b[0;34m=\u001b[0m \u001b[0mpd\u001b[0m\u001b[0;34m.\u001b[0m\u001b[0mread_csv\u001b[0m\u001b[0;34m(\u001b[0m\u001b[0moutfile_path\u001b[0m\u001b[0;34m+\u001b[0m\u001b[0;34m\"UNIQUE_ID_dict.csv\"\u001b[0m\u001b[0;34m)\u001b[0m\u001b[0;34m\u001b[0m\u001b[0;34m\u001b[0m\u001b[0m\n\u001b[0m\u001b[1;32m      2\u001b[0m \u001b[0md\u001b[0m \u001b[0;34m=\u001b[0m \u001b[0mdict\u001b[0m\u001b[0;34m(\u001b[0m\u001b[0mzip\u001b[0m\u001b[0;34m(\u001b[0m\u001b[0munique_id_df\u001b[0m\u001b[0;34m[\u001b[0m\u001b[0;34m\"HADM_ID\"\u001b[0m\u001b[0;34m]\u001b[0m\u001b[0;34m.\u001b[0m\u001b[0mvalues\u001b[0m\u001b[0;34m,\u001b[0m\u001b[0munique_id_df\u001b[0m\u001b[0;34m[\u001b[0m\u001b[0;34m\"UNIQUE_ID\"\u001b[0m\u001b[0;34m]\u001b[0m\u001b[0;34m.\u001b[0m\u001b[0mvalues\u001b[0m\u001b[0;34m)\u001b[0m\u001b[0;34m)\u001b[0m\u001b[0;34m\u001b[0m\u001b[0;34m\u001b[0m\u001b[0m\n",
      "\u001b[0;32m~/helen/envs/py3env/lib/python3.6/site-packages/pandas/io/parsers.py\u001b[0m in \u001b[0;36mparser_f\u001b[0;34m(filepath_or_buffer, sep, delimiter, header, names, index_col, usecols, squeeze, prefix, mangle_dupe_cols, dtype, engine, converters, true_values, false_values, skipinitialspace, skiprows, skipfooter, nrows, na_values, keep_default_na, na_filter, verbose, skip_blank_lines, parse_dates, infer_datetime_format, keep_date_col, date_parser, dayfirst, cache_dates, iterator, chunksize, compression, thousands, decimal, lineterminator, quotechar, quoting, doublequote, escapechar, comment, encoding, dialect, error_bad_lines, warn_bad_lines, delim_whitespace, low_memory, memory_map, float_precision)\u001b[0m\n\u001b[1;32m    683\u001b[0m         )\n\u001b[1;32m    684\u001b[0m \u001b[0;34m\u001b[0m\u001b[0m\n\u001b[0;32m--> 685\u001b[0;31m         \u001b[0;32mreturn\u001b[0m \u001b[0m_read\u001b[0m\u001b[0;34m(\u001b[0m\u001b[0mfilepath_or_buffer\u001b[0m\u001b[0;34m,\u001b[0m \u001b[0mkwds\u001b[0m\u001b[0;34m)\u001b[0m\u001b[0;34m\u001b[0m\u001b[0;34m\u001b[0m\u001b[0m\n\u001b[0m\u001b[1;32m    686\u001b[0m \u001b[0;34m\u001b[0m\u001b[0m\n\u001b[1;32m    687\u001b[0m     \u001b[0mparser_f\u001b[0m\u001b[0;34m.\u001b[0m\u001b[0m__name__\u001b[0m \u001b[0;34m=\u001b[0m \u001b[0mname\u001b[0m\u001b[0;34m\u001b[0m\u001b[0;34m\u001b[0m\u001b[0m\n",
      "\u001b[0;32m~/helen/envs/py3env/lib/python3.6/site-packages/pandas/io/parsers.py\u001b[0m in \u001b[0;36m_read\u001b[0;34m(filepath_or_buffer, kwds)\u001b[0m\n\u001b[1;32m    455\u001b[0m \u001b[0;34m\u001b[0m\u001b[0m\n\u001b[1;32m    456\u001b[0m     \u001b[0;31m# Create the parser.\u001b[0m\u001b[0;34m\u001b[0m\u001b[0;34m\u001b[0m\u001b[0;34m\u001b[0m\u001b[0m\n\u001b[0;32m--> 457\u001b[0;31m     \u001b[0mparser\u001b[0m \u001b[0;34m=\u001b[0m \u001b[0mTextFileReader\u001b[0m\u001b[0;34m(\u001b[0m\u001b[0mfp_or_buf\u001b[0m\u001b[0;34m,\u001b[0m \u001b[0;34m**\u001b[0m\u001b[0mkwds\u001b[0m\u001b[0;34m)\u001b[0m\u001b[0;34m\u001b[0m\u001b[0;34m\u001b[0m\u001b[0m\n\u001b[0m\u001b[1;32m    458\u001b[0m \u001b[0;34m\u001b[0m\u001b[0m\n\u001b[1;32m    459\u001b[0m     \u001b[0;32mif\u001b[0m \u001b[0mchunksize\u001b[0m \u001b[0;32mor\u001b[0m \u001b[0miterator\u001b[0m\u001b[0;34m:\u001b[0m\u001b[0;34m\u001b[0m\u001b[0;34m\u001b[0m\u001b[0m\n",
      "\u001b[0;32m~/helen/envs/py3env/lib/python3.6/site-packages/pandas/io/parsers.py\u001b[0m in \u001b[0;36m__init__\u001b[0;34m(self, f, engine, **kwds)\u001b[0m\n\u001b[1;32m    893\u001b[0m             \u001b[0mself\u001b[0m\u001b[0;34m.\u001b[0m\u001b[0moptions\u001b[0m\u001b[0;34m[\u001b[0m\u001b[0;34m\"has_index_names\"\u001b[0m\u001b[0;34m]\u001b[0m \u001b[0;34m=\u001b[0m \u001b[0mkwds\u001b[0m\u001b[0;34m[\u001b[0m\u001b[0;34m\"has_index_names\"\u001b[0m\u001b[0;34m]\u001b[0m\u001b[0;34m\u001b[0m\u001b[0;34m\u001b[0m\u001b[0m\n\u001b[1;32m    894\u001b[0m \u001b[0;34m\u001b[0m\u001b[0m\n\u001b[0;32m--> 895\u001b[0;31m         \u001b[0mself\u001b[0m\u001b[0;34m.\u001b[0m\u001b[0m_make_engine\u001b[0m\u001b[0;34m(\u001b[0m\u001b[0mself\u001b[0m\u001b[0;34m.\u001b[0m\u001b[0mengine\u001b[0m\u001b[0;34m)\u001b[0m\u001b[0;34m\u001b[0m\u001b[0;34m\u001b[0m\u001b[0m\n\u001b[0m\u001b[1;32m    896\u001b[0m \u001b[0;34m\u001b[0m\u001b[0m\n\u001b[1;32m    897\u001b[0m     \u001b[0;32mdef\u001b[0m \u001b[0mclose\u001b[0m\u001b[0;34m(\u001b[0m\u001b[0mself\u001b[0m\u001b[0;34m)\u001b[0m\u001b[0;34m:\u001b[0m\u001b[0;34m\u001b[0m\u001b[0;34m\u001b[0m\u001b[0m\n",
      "\u001b[0;32m~/helen/envs/py3env/lib/python3.6/site-packages/pandas/io/parsers.py\u001b[0m in \u001b[0;36m_make_engine\u001b[0;34m(self, engine)\u001b[0m\n\u001b[1;32m   1133\u001b[0m     \u001b[0;32mdef\u001b[0m \u001b[0m_make_engine\u001b[0m\u001b[0;34m(\u001b[0m\u001b[0mself\u001b[0m\u001b[0;34m,\u001b[0m \u001b[0mengine\u001b[0m\u001b[0;34m=\u001b[0m\u001b[0;34m\"c\"\u001b[0m\u001b[0;34m)\u001b[0m\u001b[0;34m:\u001b[0m\u001b[0;34m\u001b[0m\u001b[0;34m\u001b[0m\u001b[0m\n\u001b[1;32m   1134\u001b[0m         \u001b[0;32mif\u001b[0m \u001b[0mengine\u001b[0m \u001b[0;34m==\u001b[0m \u001b[0;34m\"c\"\u001b[0m\u001b[0;34m:\u001b[0m\u001b[0;34m\u001b[0m\u001b[0;34m\u001b[0m\u001b[0m\n\u001b[0;32m-> 1135\u001b[0;31m             \u001b[0mself\u001b[0m\u001b[0;34m.\u001b[0m\u001b[0m_engine\u001b[0m \u001b[0;34m=\u001b[0m \u001b[0mCParserWrapper\u001b[0m\u001b[0;34m(\u001b[0m\u001b[0mself\u001b[0m\u001b[0;34m.\u001b[0m\u001b[0mf\u001b[0m\u001b[0;34m,\u001b[0m \u001b[0;34m**\u001b[0m\u001b[0mself\u001b[0m\u001b[0;34m.\u001b[0m\u001b[0moptions\u001b[0m\u001b[0;34m)\u001b[0m\u001b[0;34m\u001b[0m\u001b[0;34m\u001b[0m\u001b[0m\n\u001b[0m\u001b[1;32m   1136\u001b[0m         \u001b[0;32melse\u001b[0m\u001b[0;34m:\u001b[0m\u001b[0;34m\u001b[0m\u001b[0;34m\u001b[0m\u001b[0m\n\u001b[1;32m   1137\u001b[0m             \u001b[0;32mif\u001b[0m \u001b[0mengine\u001b[0m \u001b[0;34m==\u001b[0m \u001b[0;34m\"python\"\u001b[0m\u001b[0;34m:\u001b[0m\u001b[0;34m\u001b[0m\u001b[0;34m\u001b[0m\u001b[0m\n",
      "\u001b[0;32m~/helen/envs/py3env/lib/python3.6/site-packages/pandas/io/parsers.py\u001b[0m in \u001b[0;36m__init__\u001b[0;34m(self, src, **kwds)\u001b[0m\n\u001b[1;32m   1915\u001b[0m         \u001b[0mkwds\u001b[0m\u001b[0;34m[\u001b[0m\u001b[0;34m\"usecols\"\u001b[0m\u001b[0;34m]\u001b[0m \u001b[0;34m=\u001b[0m \u001b[0mself\u001b[0m\u001b[0;34m.\u001b[0m\u001b[0musecols\u001b[0m\u001b[0;34m\u001b[0m\u001b[0;34m\u001b[0m\u001b[0m\n\u001b[1;32m   1916\u001b[0m \u001b[0;34m\u001b[0m\u001b[0m\n\u001b[0;32m-> 1917\u001b[0;31m         \u001b[0mself\u001b[0m\u001b[0;34m.\u001b[0m\u001b[0m_reader\u001b[0m \u001b[0;34m=\u001b[0m \u001b[0mparsers\u001b[0m\u001b[0;34m.\u001b[0m\u001b[0mTextReader\u001b[0m\u001b[0;34m(\u001b[0m\u001b[0msrc\u001b[0m\u001b[0;34m,\u001b[0m \u001b[0;34m**\u001b[0m\u001b[0mkwds\u001b[0m\u001b[0;34m)\u001b[0m\u001b[0;34m\u001b[0m\u001b[0;34m\u001b[0m\u001b[0m\n\u001b[0m\u001b[1;32m   1918\u001b[0m         \u001b[0mself\u001b[0m\u001b[0;34m.\u001b[0m\u001b[0munnamed_cols\u001b[0m \u001b[0;34m=\u001b[0m \u001b[0mself\u001b[0m\u001b[0;34m.\u001b[0m\u001b[0m_reader\u001b[0m\u001b[0;34m.\u001b[0m\u001b[0munnamed_cols\u001b[0m\u001b[0;34m\u001b[0m\u001b[0;34m\u001b[0m\u001b[0m\n\u001b[1;32m   1919\u001b[0m \u001b[0;34m\u001b[0m\u001b[0m\n",
      "\u001b[0;32mpandas/_libs/parsers.pyx\u001b[0m in \u001b[0;36mpandas._libs.parsers.TextReader.__cinit__\u001b[0;34m()\u001b[0m\n",
      "\u001b[0;32mpandas/_libs/parsers.pyx\u001b[0m in \u001b[0;36mpandas._libs.parsers.TextReader._setup_parser_source\u001b[0;34m()\u001b[0m\n",
      "\u001b[0;31mFileNotFoundError\u001b[0m: [Errno 2] File b'/home/hlzhou/data/mimic/mimic-iii-clinical-database-1.4/unzipped/Clean_data/UNIQUE_ID_dict.csv' does not exist: b'/home/hlzhou/data/mimic/mimic-iii-clinical-database-1.4/unzipped/Clean_data/UNIQUE_ID_dict.csv'"
     ]
    }
   ],
   "source": [
    "unique_id_df   = pd.read_csv(outfile_path+\"UNIQUE_ID_dict.csv\")\n",
    "d = dict(zip(unique_id_df[\"HADM_ID\"].values,unique_id_df[\"UNIQUE_ID\"].values))"
   ]
  },
  {
   "cell_type": "code",
   "execution_count": 22,
   "metadata": {},
   "outputs": [],
   "source": [
    "#Unique_id_dict=pd.Series(complete_df[\"HADM_ID\"].unique()).reset_index().copy()\n",
    "#Unique_id_dict.columns=[\"index\",\"HADM_ID\"]\n",
    "#Unique_id_dict[\"UNIQUE_ID\"]=Unique_id_dict[\"HADM_ID\"].map(d)\n",
    "#Unique_id_dict.to_csv(outfile_path+\"UNIQUE_ID_dict.csv\")"
   ]
  },
  {
   "cell_type": "markdown",
   "metadata": {},
   "source": [
    "\n",
    "### Death tags data set"
   ]
  },
  {
   "cell_type": "code",
   "execution_count": 23,
   "metadata": {},
   "outputs": [],
   "source": [
    "admissions=pd.read_csv(file_path+\"Admissions_processed.csv\")\n",
    "death_tags_s=admissions.groupby(\"HADM_ID\")[\"DEATHTAG\"].unique().astype(int).to_frame().reset_index()\n",
    "death_tags_df=death_tags_s.loc[death_tags_s[\"HADM_ID\"].isin(complete_df[\"HADM_ID\"])].copy()\n",
    "death_tags_df[\"UNIQUE_ID\"]=death_tags_df[\"HADM_ID\"].map(d)\n",
    "death_tags_df.sort_values(by=\"UNIQUE_ID\",inplace=True)\n",
    "death_tags_df.rename(columns={\"DEATHTAG\":\"Value\"},inplace=True)\n",
    "death_tags_df.to_csv(outfile_path+\"complete_death_tags.csv\")"
   ]
  },
  {
   "cell_type": "markdown",
   "metadata": {},
   "source": [
    "### Tensor Dataset"
   ]
  },
  {
   "cell_type": "code",
   "execution_count": 24,
   "metadata": {},
   "outputs": [],
   "source": [
    "complete_df[\"UNIQUE_ID\"] = complete_df[\"HADM_ID\"].map(d)"
   ]
  },
  {
   "cell_type": "code",
   "execution_count": 25,
   "metadata": {},
   "outputs": [],
   "source": [
    "#ICD9 codes\n",
    "ICD_diag=pd.read_csv(file_path+\"DIAGNOSES_ICD.csv\")"
   ]
  },
  {
   "cell_type": "code",
   "execution_count": 26,
   "metadata": {},
   "outputs": [],
   "source": [
    "main_diag=ICD_diag.loc[(ICD_diag[\"SEQ_NUM\"]==1)]\n",
    "complete_tensor=pd.merge(complete_df,main_diag[[\"HADM_ID\",\"ICD9_CODE\"]],on=\"HADM_ID\")\n",
    "\n",
    "#Only select the first 3 digits of each ICD9 code.\n",
    "complete_tensor[\"ICD9_short\"]=complete_tensor[\"ICD9_CODE\"].astype(str).str[:3]\n",
    "#Check that all codes are 3 digits long.\n",
    "str_len=complete_tensor[\"ICD9_short\"].str.len()\n",
    "assert(str_len.loc[str_len!=3].count()==0)\n",
    "\n",
    "#Finer encoding (3 digits)\n",
    "hot_encodings=pd.get_dummies(complete_tensor[\"ICD9_short\"])\n",
    "complete_tensor[hot_encodings.columns]=hot_encodings\n",
    "complete_tensor_nocov=complete_tensor[[\"UNIQUE_ID\",\"LABEL_CODE\",\"TIME\"]+[\"VALUENUM\"]].copy()\n",
    "\n",
    "complete_tensor_nocov.rename(columns={\"TIME\":\"TIME_STAMP\"},inplace=True)"
   ]
  },
  {
   "cell_type": "markdown",
   "metadata": {},
   "source": [
    "### Normalization of the data (N(0,1))"
   ]
  },
  {
   "cell_type": "code",
   "execution_count": 27,
   "metadata": {},
   "outputs": [],
   "source": [
    "#Add a column with the mean and std of each different measurement type and then normalize them.\n",
    "d_mean=dict(complete_tensor_nocov.groupby(\"LABEL_CODE\")[\"VALUENUM\"].mean())\n",
    "complete_tensor_nocov[\"MEAN\"]=complete_tensor_nocov[\"LABEL_CODE\"].map(d_mean)\n",
    "d_std=dict(complete_tensor_nocov.groupby(\"LABEL_CODE\")[\"VALUENUM\"].std())\n",
    "complete_tensor_nocov[\"STD\"]=complete_tensor_nocov[\"LABEL_CODE\"].map(d_std)\n",
    "complete_tensor_nocov[\"VALUENORM\"]=(complete_tensor_nocov[\"VALUENUM\"]-complete_tensor_nocov[\"MEAN\"])/complete_tensor_nocov[\"STD\"]\n"
   ]
  },
  {
   "cell_type": "markdown",
   "metadata": {},
   "source": [
    "### Train-Validation-Test split\n",
    "Random sampling"
   ]
  },
  {
   "cell_type": "code",
   "execution_count": 28,
   "metadata": {},
   "outputs": [],
   "source": [
    "#Split training_validation_test sets RANDOM DIVISION.\n",
    "\n",
    "df_train,df_test =train_test_split(complete_tensor_nocov,test_size=0.1) \n",
    "\n",
    "#Make sure that patients of the test set have instances in the training set. (same with labels but this should be nearly certain)\n",
    "assert(len(df_test.loc[~df_test[\"UNIQUE_ID\"].isin(df_train[\"UNIQUE_ID\"])].index)==0)\n",
    "assert(len(df_test.loc[~df_test[\"LABEL_CODE\"].isin(df_train[\"LABEL_CODE\"])].index)==0)\n"
   ]
  },
  {
   "cell_type": "code",
   "execution_count": 29,
   "metadata": {},
   "outputs": [],
   "source": [
    "#First train_val fold\n",
    "df_train1,df_val1 =train_test_split(df_train,test_size=0.2) \n",
    "\n",
    "#Make sure that patients of the test set have instances in the training set. (same with labels but this should be nearly certain)\n",
    "assert(len(df_val1.loc[~df_val1[\"UNIQUE_ID\"].isin(df_train1[\"UNIQUE_ID\"])].index)==0)\n",
    "assert(len(df_val1.loc[~df_val1[\"LABEL_CODE\"].isin(df_train1[\"LABEL_CODE\"])].index)==0)"
   ]
  },
  {
   "cell_type": "code",
   "execution_count": 30,
   "metadata": {},
   "outputs": [],
   "source": [
    "#Second train_val fold\n",
    "df_train2,df_val2 =train_test_split(df_train,test_size=0.2) \n",
    "\n",
    "#Make sure that patients of the test set have instances in the training set. (same with labels but this should be nearly certain)\n",
    "assert(len(df_val2.loc[~df_val2[\"UNIQUE_ID\"].isin(df_train2[\"UNIQUE_ID\"])].index)==0)\n",
    "assert(len(df_val2.loc[~df_val2[\"LABEL_CODE\"].isin(df_train2[\"LABEL_CODE\"])].index)==0)"
   ]
  },
  {
   "cell_type": "code",
   "execution_count": 31,
   "metadata": {},
   "outputs": [],
   "source": [
    "#Third train_val fold\n",
    "df_train3,df_val3 =train_test_split(df_train,test_size=0.2) \n",
    "\n",
    "#Make sure that patients of the test set have instances in the training set. (same with labels but this should be nearly certain)\n",
    "assert(len(df_val3.loc[~df_val3[\"UNIQUE_ID\"].isin(df_train3[\"UNIQUE_ID\"])].index)==0)\n",
    "assert(len(df_val3.loc[~df_val3[\"LABEL_CODE\"].isin(df_train3[\"LABEL_CODE\"])].index)==0)"
   ]
  },
  {
   "cell_type": "markdown",
   "metadata": {},
   "source": [
    "#### Venn diagram of the training sets. Visualization of the number of common samples.\n"
   ]
  },
  {
   "cell_type": "code",
   "execution_count": 33,
   "metadata": {},
   "outputs": [
    {
     "data": {
      "image/png": "[encoded data removed]",
      "text/plain": [
       "<Figure size 432x288 with 1 Axes>"
      ]
     },
     "metadata": {},
     "output_type": "display_data"
    }
   ],
   "source": [
    "import matplotlib.pyplot as plt\n",
    "from matplotlib_venn import venn3\n",
    "\n",
    "temp12=pd.merge(df_train1,df_train2,how=\"inner\",on=[\"UNIQUE_ID\",\"LABEL_CODE\",\"TIME_STAMP\"])\n",
    "temp13=pd.merge(df_train1,df_train3,how=\"inner\",on=[\"UNIQUE_ID\",\"LABEL_CODE\",\"TIME_STAMP\"])\n",
    "temp23=pd.merge(df_train2,df_train3,how=\"inner\",on=[\"UNIQUE_ID\",\"LABEL_CODE\",\"TIME_STAMP\"])\n",
    "temp123=pd.merge(temp12,temp23,how=\"inner\",on=[\"UNIQUE_ID\",\"LABEL_CODE\",\"TIME_STAMP\"])\n",
    "\n",
    " \n",
    "# Make the diagram\n",
    "venn3(subsets = (len(df_train1.index)-len(temp12.index)-len(temp13.index)+len(temp123.index), len(df_train2.index)-len(temp12.index)-len(temp23.index)+len(temp123.index), len(temp12.index)-len(temp123), len(df_train3.index)-len(temp13.index)-len(temp23.index)+len(temp123.index),len(temp13.index)-len(temp123.index),len(temp23.index)-len(temp123.index),len(temp123)))\n",
    "plt.show()"
   ]
  },
  {
   "cell_type": "code",
   "execution_count": 34,
   "metadata": {},
   "outputs": [],
   "source": [
    "#Save locally.\n",
    "complete_tensor_nocov.to_csv(outfile_path+\"complete_tensor.csv\") #Full data\n",
    "df_train1.to_csv(outfile_path+\"complete_tensor_train1.csv\") #Train data\n",
    "df_val1.to_csv(outfile_path+\"complete_tensor_val1.csv\") #Validation data\n",
    "df_train2.to_csv(outfile_path+\"complete_tensor_train2.csv\") #Train data\n",
    "df_val2.to_csv(outfile_path+\"complete_tensor_val2.csv\") #Validation data\n",
    "df_train3.to_csv(outfile_path+\"complete_tensor_train3.csv\") #Train data\n",
    "df_val3.to_csv(outfile_path+\"complete_tensor_val3.csv\") #Validation data\n",
    "df_test.to_csv(outfile_path+\"complete_tensor_test.csv\") #Test data\n"
   ]
  },
  {
   "cell_type": "markdown",
   "metadata": {},
   "source": [
    "#### Covariates dataset"
   ]
  },
  {
   "cell_type": "code",
   "execution_count": 35,
   "metadata": {},
   "outputs": [],
   "source": [
    "#We create a data set with the covariates\n",
    "covariates=complete_tensor.groupby(\"UNIQUE_ID\").nth(0)[list(hot_encodings.columns)]\n",
    "covariates.to_csv(outfile_path+\"complete_covariates.csv\") #save locally"
   ]
  },
  {
   "cell_type": "markdown",
   "metadata": {},
   "source": [
    "## Creation of the dataset for LSTM operation\n",
    "\n",
    "We split the data patient-wise and provide imputation methods."
   ]
  },
  {
   "cell_type": "code",
   "execution_count": 36,
   "metadata": {},
   "outputs": [],
   "source": [
    "#Unique_ids of train and test\n",
    "test_prop=0.1\n",
    "val_prop=0.2\n",
    "sorted_unique_ids=np.sort(unique_ids)\n",
    "train_unique_ids=sorted_unique_ids[:int((1-test_prop)*(1-val_prop)*len(unique_ids))]\n",
    "val_unique_ids=sorted_unique_ids[int((1-test_prop)*(1-val_prop)*len(unique_ids)):int((1-test_prop)*len(unique_ids))]\n",
    "test_unique_ids=sorted_unique_ids[int((1-test_prop)*len(unique_ids)):]"
   ]
  },
  {
   "cell_type": "markdown",
   "metadata": {},
   "source": [
    "#### Death tags"
   ]
  },
  {
   "cell_type": "code",
   "execution_count": 37,
   "metadata": {},
   "outputs": [],
   "source": [
    "death_tags_train_df=death_tags_df.loc[death_tags_df[\"UNIQUE_ID\"].isin(list(train_unique_ids))].sort_values(by=\"UNIQUE_ID\")\n",
    "death_tags_val_df=death_tags_df.loc[death_tags_df[\"UNIQUE_ID\"].isin(list(val_unique_ids))].sort_values(by=\"UNIQUE_ID\")\n",
    "death_tags_test_df=death_tags_df.loc[death_tags_df[\"UNIQUE_ID\"].isin(list(test_unique_ids))].sort_values(by=\"UNIQUE_ID\")\n",
    "\n",
    "death_tags_train_df.to_csv(outfile_path+\"LSTM_death_tags_train.csv\")\n",
    "death_tags_val_df.to_csv(outfile_path+\"LSTM_death_tags_val.csv\")\n",
    "death_tags_test_df.to_csv(outfile_path+\"LSTM_death_tags_test.csv\")"
   ]
  },
  {
   "cell_type": "markdown",
   "metadata": {},
   "source": [
    "#### Tensor split"
   ]
  },
  {
   "cell_type": "code",
   "execution_count": 38,
   "metadata": {},
   "outputs": [],
   "source": [
    "#Create a segmented tensor (by patients)\n",
    "complete_tensor_train=complete_tensor_nocov.loc[complete_tensor_nocov[\"UNIQUE_ID\"].isin(list(train_unique_ids))].sort_values(by=\"UNIQUE_ID\")\n",
    "complete_tensor_val=complete_tensor_nocov.loc[complete_tensor_nocov[\"UNIQUE_ID\"].isin(list(val_unique_ids))].sort_values(by=\"UNIQUE_ID\")\n",
    "complete_tensor_test=complete_tensor_nocov.loc[complete_tensor_nocov[\"UNIQUE_ID\"].isin(list(test_unique_ids))].sort_values(by=\"UNIQUE_ID\")\n",
    "\n",
    "complete_tensor_train.to_csv(outfile_path+\"LSTM_tensor_train.csv\") \n",
    "complete_tensor_val.to_csv(outfile_path+\"LSTM_tensor_val.csv\") \n",
    "complete_tensor_test.to_csv(outfile_path+\"LSTM_tensor_test.csv\") "
   ]
  },
  {
   "cell_type": "markdown",
   "metadata": {},
   "source": [
    "#### Covariates split"
   ]
  },
  {
   "cell_type": "code",
   "execution_count": 39,
   "metadata": {},
   "outputs": [],
   "source": [
    "covariates_train=covariates.loc[covariates.index.isin(train_unique_ids)].sort_index()\n",
    "covariates_val=covariates.loc[covariates.index.isin(val_unique_ids)].sort_index()\n",
    "covariates_test=covariates.loc[covariates.index.isin(test_unique_ids)].sort_index()\n",
    "\n",
    "covariates_train.to_csv(outfile_path+\"LSTM_covariates_train.csv\") #save locally\n",
    "covariates_val.to_csv(outfile_path+\"LSTM_covariates_val.csv\") #save locally\n",
    "covariates_test.to_csv(outfile_path+\"LSTM_covariates_test.csv\") #save locally"
   ]
  },
  {
   "cell_type": "markdown",
   "metadata": {},
   "source": [
    "#### Mean Imputation"
   ]
  },
  {
   "cell_type": "code",
   "execution_count": 40,
   "metadata": {},
   "outputs": [
    {
     "name": "stderr",
     "output_type": "stream",
     "text": [
      "/home/hlzhou/helen/envs/py3env/lib/python3.6/site-packages/ipykernel_launcher.py:3: FutureWarning: The signature of `Series.to_csv` was aligned to that of `DataFrame.to_csv`, and argument 'header' will change its default value from False to True: please pass an explicit value to suppress this warning.\n",
      "  This is separate from the ipykernel package so we can avoid doing imports until\n"
     ]
    }
   ],
   "source": [
    "#Vector containing the mean_values of each dimension.\n",
    "mean_dims=complete_tensor_train.groupby(\"LABEL_CODE\")[\"MEAN\"].mean()\n",
    "mean_dims.to_csv(outfile_path+\"mean_features.csv\")"
   ]
  },
  {
   "cell_type": "markdown",
   "metadata": {},
   "source": [
    "## Dataset for GRU_D (continuous time operation)"
   ]
  },
  {
   "cell_type": "code",
   "execution_count": 41,
   "metadata": {},
   "outputs": [],
   "source": [
    "#map the admission id to the unique id\n",
    "complete_df10[\"UNIQUE_ID\"]=complete_df10[\"HADM_ID\"].map(d)\n",
    "complete_df10[\"TIME_CONTINUOUS\"]=complete_df10[\"TIME\"]/10"
   ]
  },
  {
   "cell_type": "code",
   "execution_count": 42,
   "metadata": {},
   "outputs": [],
   "source": [
    "#Add a column with the mean and std of each different measurement type and then normalize them.\n",
    "d_mean=dict(complete_df10.groupby(\"LABEL_CODE\")[\"VALUENUM\"].mean())\n",
    "complete_df10[\"MEAN\"]=complete_df10[\"LABEL_CODE\"].map(d_mean)\n",
    "d_std=dict(complete_df10.groupby(\"LABEL_CODE\")[\"VALUENUM\"].std())\n",
    "complete_df10[\"STD\"]=complete_df10[\"LABEL_CODE\"].map(d_std)\n",
    "complete_df10[\"VALUENORM\"]=(complete_df10[\"VALUENUM\"]-complete_df10[\"MEAN\"])/complete_df10[\"STD\"]\n",
    "\n",
    "assert(len(complete_df10.loc[complete_df10[\"VALUENORM\"]==0].index)==0) #Make sure that there are no zeros. (Zeros can be used to represent missing values then)"
   ]
  },
  {
   "cell_type": "code",
   "execution_count": 43,
   "metadata": {},
   "outputs": [],
   "source": [
    "max_time_bins=complete_df10.groupby(\"UNIQUE_ID\")[\"TIME\"].nunique().max() #This is the maximal number of different time steps in a patient time series.\n",
    "\n",
    "\n",
    "\n"
   ]
  },
  {
   "cell_type": "code",
   "execution_count": 44,
   "metadata": {},
   "outputs": [],
   "source": [
    "a=complete_df10.sort_values(by=[\"UNIQUE_ID\",\"TIME_CONTINUOUS\"]).copy()\n",
    "a.reset_index(inplace=True)"
   ]
  },
  {
   "cell_type": "code",
   "execution_count": 45,
   "metadata": {},
   "outputs": [],
   "source": [
    "b=a.assign(Time_order=a.groupby('UNIQUE_ID').TIME.rank(method='dense') - 1)\n"
   ]
  },
  {
   "cell_type": "code",
   "execution_count": 46,
   "metadata": {},
   "outputs": [
    {
     "data": {
      "text/html": [
       "<div>\n",
       "<style scoped>\n",
       "    .dataframe tbody tr th:only-of-type {\n",
       "        vertical-align: middle;\n",
       "    }\n",
       "\n",
       "    .dataframe tbody tr th {\n",
       "        vertical-align: top;\n",
       "    }\n",
       "\n",
       "    .dataframe thead th {\n",
       "        text-align: right;\n",
       "    }\n",
       "</style>\n",
       "<table border=\"1\" class=\"dataframe\">\n",
       "  <thead>\n",
       "    <tr style=\"text-align: right;\">\n",
       "      <th></th>\n",
       "      <th>index</th>\n",
       "      <th>HADM_ID</th>\n",
       "      <th>TIME</th>\n",
       "      <th>LABEL_CODE</th>\n",
       "      <th>VALUENUM</th>\n",
       "      <th>UNIQUE_ID</th>\n",
       "      <th>TIME_CONTINUOUS</th>\n",
       "      <th>MEAN</th>\n",
       "      <th>STD</th>\n",
       "      <th>VALUENORM</th>\n",
       "      <th>Time_order</th>\n",
       "    </tr>\n",
       "  </thead>\n",
       "  <tbody>\n",
       "    <tr>\n",
       "      <td>0</td>\n",
       "      <td>304523</td>\n",
       "      <td>113690.0</td>\n",
       "      <td>0.0</td>\n",
       "      <td>0</td>\n",
       "      <td>21.00</td>\n",
       "      <td>0</td>\n",
       "      <td>0.0</td>\n",
       "      <td>14.333616</td>\n",
       "      <td>3.958092</td>\n",
       "      <td>1.684242</td>\n",
       "      <td>0.0</td>\n",
       "    </tr>\n",
       "    <tr>\n",
       "      <td>1</td>\n",
       "      <td>304529</td>\n",
       "      <td>113690.0</td>\n",
       "      <td>0.0</td>\n",
       "      <td>1</td>\n",
       "      <td>21.00</td>\n",
       "      <td>0</td>\n",
       "      <td>0.0</td>\n",
       "      <td>23.683217</td>\n",
       "      <td>4.552615</td>\n",
       "      <td>-0.589379</td>\n",
       "      <td>0.0</td>\n",
       "    </tr>\n",
       "    <tr>\n",
       "      <td>2</td>\n",
       "      <td>304537</td>\n",
       "      <td>113690.0</td>\n",
       "      <td>0.0</td>\n",
       "      <td>3</td>\n",
       "      <td>99.00</td>\n",
       "      <td>0</td>\n",
       "      <td>0.0</td>\n",
       "      <td>105.072327</td>\n",
       "      <td>6.554967</td>\n",
       "      <td>-0.926370</td>\n",
       "      <td>0.0</td>\n",
       "    </tr>\n",
       "    <tr>\n",
       "      <td>3</td>\n",
       "      <td>304543</td>\n",
       "      <td>113690.0</td>\n",
       "      <td>0.0</td>\n",
       "      <td>4</td>\n",
       "      <td>1.00</td>\n",
       "      <td>0</td>\n",
       "      <td>0.0</td>\n",
       "      <td>1.350306</td>\n",
       "      <td>1.445883</td>\n",
       "      <td>-0.242278</td>\n",
       "      <td>0.0</td>\n",
       "    </tr>\n",
       "    <tr>\n",
       "      <td>4</td>\n",
       "      <td>304548</td>\n",
       "      <td>113690.0</td>\n",
       "      <td>0.0</td>\n",
       "      <td>5</td>\n",
       "      <td>50.00</td>\n",
       "      <td>0</td>\n",
       "      <td>0.0</td>\n",
       "      <td>135.704576</td>\n",
       "      <td>93.624455</td>\n",
       "      <td>-0.915408</td>\n",
       "      <td>0.0</td>\n",
       "    </tr>\n",
       "    <tr>\n",
       "      <td>...</td>\n",
       "      <td>...</td>\n",
       "      <td>...</td>\n",
       "      <td>...</td>\n",
       "      <td>...</td>\n",
       "      <td>...</td>\n",
       "      <td>...</td>\n",
       "      <td>...</td>\n",
       "      <td>...</td>\n",
       "      <td>...</td>\n",
       "      <td>...</td>\n",
       "      <td>...</td>\n",
       "    </tr>\n",
       "    <tr>\n",
       "      <td>3225035</td>\n",
       "      <td>665339</td>\n",
       "      <td>129719.0</td>\n",
       "      <td>340.0</td>\n",
       "      <td>30</td>\n",
       "      <td>23.00</td>\n",
       "      <td>21260</td>\n",
       "      <td>34.0</td>\n",
       "      <td>24.763740</td>\n",
       "      <td>4.615921</td>\n",
       "      <td>-0.382099</td>\n",
       "      <td>6.0</td>\n",
       "    </tr>\n",
       "    <tr>\n",
       "      <td>3225036</td>\n",
       "      <td>665342</td>\n",
       "      <td>129719.0</td>\n",
       "      <td>340.0</td>\n",
       "      <td>31</td>\n",
       "      <td>2.50</td>\n",
       "      <td>21260</td>\n",
       "      <td>34.0</td>\n",
       "      <td>2.609944</td>\n",
       "      <td>2.035778</td>\n",
       "      <td>-0.054006</td>\n",
       "      <td>6.0</td>\n",
       "    </tr>\n",
       "    <tr>\n",
       "      <td>3225037</td>\n",
       "      <td>665345</td>\n",
       "      <td>129719.0</td>\n",
       "      <td>340.0</td>\n",
       "      <td>32</td>\n",
       "      <td>35.00</td>\n",
       "      <td>21260</td>\n",
       "      <td>34.0</td>\n",
       "      <td>41.428204</td>\n",
       "      <td>9.528942</td>\n",
       "      <td>-0.674598</td>\n",
       "      <td>6.0</td>\n",
       "    </tr>\n",
       "    <tr>\n",
       "      <td>3225038</td>\n",
       "      <td>665348</td>\n",
       "      <td>129719.0</td>\n",
       "      <td>340.0</td>\n",
       "      <td>33</td>\n",
       "      <td>7.41</td>\n",
       "      <td>21260</td>\n",
       "      <td>34.0</td>\n",
       "      <td>7.145331</td>\n",
       "      <td>0.648851</td>\n",
       "      <td>0.407904</td>\n",
       "      <td>6.0</td>\n",
       "    </tr>\n",
       "    <tr>\n",
       "      <td>3225039</td>\n",
       "      <td>665351</td>\n",
       "      <td>129719.0</td>\n",
       "      <td>340.0</td>\n",
       "      <td>34</td>\n",
       "      <td>62.00</td>\n",
       "      <td>21260</td>\n",
       "      <td>34.0</td>\n",
       "      <td>188.338393</td>\n",
       "      <td>119.567732</td>\n",
       "      <td>-1.056626</td>\n",
       "      <td>6.0</td>\n",
       "    </tr>\n",
       "  </tbody>\n",
       "</table>\n",
       "<p>3225040 rows × 11 columns</p>\n",
       "</div>"
      ],
      "text/plain": [
       "          index   HADM_ID   TIME  LABEL_CODE  VALUENUM  UNIQUE_ID  \\\n",
       "0        304523  113690.0    0.0           0     21.00          0   \n",
       "1        304529  113690.0    0.0           1     21.00          0   \n",
       "2        304537  113690.0    0.0           3     99.00          0   \n",
       "3        304543  113690.0    0.0           4      1.00          0   \n",
       "4        304548  113690.0    0.0           5     50.00          0   \n",
       "...         ...       ...    ...         ...       ...        ...   \n",
       "3225035  665339  129719.0  340.0          30     23.00      21260   \n",
       "3225036  665342  129719.0  340.0          31      2.50      21260   \n",
       "3225037  665345  129719.0  340.0          32     35.00      21260   \n",
       "3225038  665348  129719.0  340.0          33      7.41      21260   \n",
       "3225039  665351  129719.0  340.0          34     62.00      21260   \n",
       "\n",
       "         TIME_CONTINUOUS        MEAN         STD  VALUENORM  Time_order  \n",
       "0                    0.0   14.333616    3.958092   1.684242         0.0  \n",
       "1                    0.0   23.683217    4.552615  -0.589379         0.0  \n",
       "2                    0.0  105.072327    6.554967  -0.926370         0.0  \n",
       "3                    0.0    1.350306    1.445883  -0.242278         0.0  \n",
       "4                    0.0  135.704576   93.624455  -0.915408         0.0  \n",
       "...                  ...         ...         ...        ...         ...  \n",
       "3225035             34.0   24.763740    4.615921  -0.382099         6.0  \n",
       "3225036             34.0    2.609944    2.035778  -0.054006         6.0  \n",
       "3225037             34.0   41.428204    9.528942  -0.674598         6.0  \n",
       "3225038             34.0    7.145331    0.648851   0.407904         6.0  \n",
       "3225039             34.0  188.338393  119.567732  -1.056626         6.0  \n",
       "\n",
       "[3225040 rows x 11 columns]"
      ]
     },
     "execution_count": 46,
     "metadata": {},
     "output_type": "execute_result"
    }
   ],
   "source": [
    "b"
   ]
  },
  {
   "cell_type": "code",
   "execution_count": 47,
   "metadata": {},
   "outputs": [],
   "source": [
    "#### END OF FILE ####### (below is testing stuff.)"
   ]
  },
  {
   "cell_type": "code",
   "execution_count": 48,
   "metadata": {},
   "outputs": [
    {
     "data": {
      "text/plain": [
       "array([    0,     1,     2, ..., 15304, 15305, 15306])"
      ]
     },
     "execution_count": 48,
     "metadata": {},
     "output_type": "execute_result"
    }
   ],
   "source": [
    "tags=pd.read_csv(outfile_path+\"LSTM_death_tags_train.csv\")\n",
    "tags[\"UNIQUE_ID\"].unique()"
   ]
  },
  {
   "cell_type": "code",
   "execution_count": 49,
   "metadata": {},
   "outputs": [
    {
     "data": {
      "text/plain": [
       "array([15307, 15308, 15309, ..., 19131, 19132, 19133])"
      ]
     },
     "execution_count": 49,
     "metadata": {},
     "output_type": "execute_result"
    }
   ],
   "source": [
    "tags=pd.read_csv(outfile_path+\"LSTM_death_tags_val.csv\")\n",
    "tags[\"UNIQUE_ID\"].unique()"
   ]
  },
  {
   "cell_type": "code",
   "execution_count": 50,
   "metadata": {},
   "outputs": [],
   "source": [
    "df=pd.read_csv(outfile_path+\"LSTM_tensor_train.csv\")"
   ]
  },
  {
   "cell_type": "code",
   "execution_count": 51,
   "metadata": {},
   "outputs": [
    {
     "data": {
      "text/plain": [
       "array([    0,     1,     2, ..., 15304, 15305, 15306])"
      ]
     },
     "execution_count": 51,
     "metadata": {},
     "output_type": "execute_result"
    }
   ],
   "source": [
    "df[\"UNIQUE_ID\"].unique()"
   ]
  },
  {
   "cell_type": "code",
   "execution_count": 52,
   "metadata": {},
   "outputs": [
    {
     "data": {
      "text/plain": [
       "15307"
      ]
     },
     "execution_count": 52,
     "metadata": {},
     "output_type": "execute_result"
    }
   ],
   "source": [
    "df[\"UNIQUE_ID\"].nunique()"
   ]
  },
  {
   "cell_type": "code",
   "execution_count": 53,
   "metadata": {},
   "outputs": [],
   "source": [
    "df2=pd.read_csv(outfile_path+\"LSTM_tensor_val.csv\")"
   ]
  },
  {
   "cell_type": "code",
   "execution_count": 54,
   "metadata": {},
   "outputs": [
    {
     "data": {
      "text/plain": [
       "array([15307, 15308, 15309, ..., 19131, 19132, 19133])"
      ]
     },
     "execution_count": 54,
     "metadata": {},
     "output_type": "execute_result"
    }
   ],
   "source": [
    "df2[\"UNIQUE_ID\"].unique()"
   ]
  },
  {
   "cell_type": "code",
   "execution_count": 55,
   "metadata": {},
   "outputs": [],
   "source": [
    "df3=pd.concat([df,df2])"
   ]
  },
  {
   "cell_type": "code",
   "execution_count": 56,
   "metadata": {},
   "outputs": [
    {
     "data": {
      "text/plain": [
       "array([    0,     1,     2, ..., 19131, 19132, 19133])"
      ]
     },
     "execution_count": 56,
     "metadata": {},
     "output_type": "execute_result"
    }
   ],
   "source": [
    "df3[\"UNIQUE_ID\"].unique()"
   ]
  },
  {
   "cell_type": "code",
   "execution_count": 62,
   "metadata": {},
   "outputs": [
    {
     "name": "stderr",
     "output_type": "stream",
     "text": [
      "/home/hlzhou/helen/envs/py3env/lib/python3.6/site-packages/ipykernel_launcher.py:2: FutureWarning: Method .as_matrix will be removed in a future version. Use .values instead.\n",
      "  \n"
     ]
    }
   ],
   "source": [
    "means_df=pd.read_csv(\"~/data/mimic/mimic-iii-clinical-database-1.4/unzipped/Clean_data/mean_features.csv\")\n",
    "means_vec=torch.tensor(means_df.as_matrix())"
   ]
  },
  {
   "cell_type": "code",
   "execution_count": 63,
   "metadata": {},
   "outputs": [
    {
     "data": {
      "text/plain": [
       "torch.Size([95, 2])"
      ]
     },
     "execution_count": 63,
     "metadata": {},
     "output_type": "execute_result"
    }
   ],
   "source": [
    "means_vec.size()"
   ]
  },
  {
   "cell_type": "code",
   "execution_count": 64,
   "metadata": {},
   "outputs": [
    {
     "data": {
      "text/plain": [
       "LABEL_CODE\n",
       "0      14.333331\n",
       "1      23.683464\n",
       "2       8.319683\n",
       "3     105.072524\n",
       "4       1.350264\n",
       "         ...    \n",
       "91     92.211538\n",
       "92    187.327189\n",
       "93    516.350000\n",
       "94     98.466102\n",
       "95    306.144814\n",
       "Name: MEAN, Length: 96, dtype: float64"
      ]
     },
     "execution_count": 64,
     "metadata": {},
     "output_type": "execute_result"
    }
   ],
   "source": [
    "mean_dims"
   ]
  },
  {
   "cell_type": "code",
   "execution_count": 67,
   "metadata": {},
   "outputs": [],
   "source": [
    "cov=pd.read_csv(outfile_path+\"complete_covariates.csv\")\n",
    "df_train=pd.read_csv(outfile_path+\"complete_tensor_train1.csv\")\n",
    "df_val=pd.read_csv(outfile_path+\"complete_tensor_val1.csv\")\n",
    "deaths=pd.read_csv(outfile_path+\"complete_death_tags.csv\")\n",
    "df=pd.read_csv(outfile_path+\"complete_tensor.csv\")"
   ]
  },
  {
   "cell_type": "markdown",
   "metadata": {},
   "source": [
    "## Create a segmented dataset by patients for actual testing."
   ]
  },
  {
   "cell_type": "code",
   "execution_count": 68,
   "metadata": {},
   "outputs": [],
   "source": [
    "unique_ids=cov[\"UNIQUE_ID\"]\n",
    "train_unique_ids,test_unique_ids=train_test_split(unique_ids,test_size=0.1)"
   ]
  },
  {
   "cell_type": "code",
   "execution_count": 69,
   "metadata": {},
   "outputs": [],
   "source": [
    "df_segment_train=df.loc[df[\"UNIQUE_ID\"].isin(list(train_unique_ids))]\n",
    "df_segment_test=df.loc[df[\"UNIQUE_ID\"].isin(list(test_unique_ids))]\n",
    "cov_segment_train=cov.loc[cov[\"UNIQUE_ID\"].isin(list(train_unique_ids))]\n",
    "cov_segment_test=cov.loc[cov[\"UNIQUE_ID\"].isin(list(test_unique_ids))]"
   ]
  },
  {
   "cell_type": "code",
   "execution_count": 70,
   "metadata": {},
   "outputs": [],
   "source": [
    "df_segment_train.to_csv(file_path+\"segmented_tensor_train.csv\")\n",
    "df_segment_test.to_csv(file_path+\"segmented_tensor_test.csv\")\n",
    "cov_segment_train.to_csv(file_path+\"segmented_covariates_train.csv\")\n",
    "cov_segment_test.to_csv(file_path+\"segmented_covariates_test.csv\")"
   ]
  },
  {
   "cell_type": "code",
   "execution_count": 71,
   "metadata": {},
   "outputs": [
    {
     "data": {
      "text/plain": [
       "[8157,\n",
       " 14812,\n",
       " 10723,\n",
       " 15312,\n",
       " 9013,\n",
       " 17430,\n",
       " 4049,\n",
       " 10933,\n",
       " 14158,\n",
       " 233,\n",
       " 17180,\n",
       " 19169,\n",
       " 3069,\n",
       " 1720,\n",
       " 5999,\n",
       " 474,\n",
       " 6706,\n",
       " 18607,\n",
       " 14087,\n",
       " 11384,\n",
       " 9036,\n",
       " 20085,\n",
       " 5907,\n",
       " 13561,\n",
       " 19963,\n",
       " 10386,\n",
       " 4187,\n",
       " 9434,\n",
       " 11031,\n",
       " 15145,\n",
       " 11506,\n",
       " 346,\n",
       " 7623,\n",
       " 9737,\n",
       " 14449,\n",
       " 5761,\n",
       " 2766,\n",
       " 2754,\n",
       " 5683,\n",
       " 17362,\n",
       " 21251,\n",
       " 5068,\n",
       " 2415,\n",
       " 17312,\n",
       " 4759,\n",
       " 12058,\n",
       " 15235,\n",
       " 20255,\n",
       " 11188,\n",
       " 2326,\n",
       " 6219,\n",
       " 12945,\n",
       " 10662,\n",
       " 14601,\n",
       " 8937,\n",
       " 17074,\n",
       " 21170,\n",
       " 3522,\n",
       " 350,\n",
       " 12776,\n",
       " 15849,\n",
       " 14932,\n",
       " 8210,\n",
       " 15529,\n",
       " 3631,\n",
       " 1161,\n",
       " 8584,\n",
       " 5538,\n",
       " 3305,\n",
       " 18143,\n",
       " 10098,\n",
       " 15484,\n",
       " 18757,\n",
       " 14600,\n",
       " 17031,\n",
       " 6867,\n",
       " 19397,\n",
       " 6581,\n",
       " 8367,\n",
       " 6471,\n",
       " 768,\n",
       " 1062,\n",
       " 17994,\n",
       " 11838,\n",
       " 17365,\n",
       " 16904,\n",
       " 18811,\n",
       " 17808,\n",
       " 7068,\n",
       " 5005,\n",
       " 17955,\n",
       " 12308,\n",
       " 9448,\n",
       " 18980,\n",
       " 4784,\n",
       " 19471,\n",
       " 4135,\n",
       " 4621,\n",
       " 1459,\n",
       " 5840,\n",
       " 13088,\n",
       " 1579,\n",
       " 12154,\n",
       " 1010,\n",
       " 4852,\n",
       " 10753,\n",
       " 5579,\n",
       " 16033,\n",
       " 18366,\n",
       " 17568,\n",
       " 12474,\n",
       " 18023,\n",
       " 3232,\n",
       " 21082,\n",
       " 1028,\n",
       " 4669,\n",
       " 14953,\n",
       " 6862,\n",
       " 17882,\n",
       " 5119,\n",
       " 11538,\n",
       " 16587,\n",
       " 3879,\n",
       " 5355,\n",
       " 9990,\n",
       " 17577,\n",
       " 2103,\n",
       " 8364,\n",
       " 7865,\n",
       " 17424,\n",
       " 17941,\n",
       " 4231,\n",
       " 16356,\n",
       " 7552,\n",
       " 19045,\n",
       " 17100,\n",
       " 2240,\n",
       " 3656,\n",
       " 17423,\n",
       " 14623,\n",
       " 3011,\n",
       " 8636,\n",
       " 3584,\n",
       " 6512,\n",
       " 3624,\n",
       " 13018,\n",
       " 18043,\n",
       " 12882,\n",
       " 3272,\n",
       " 15017,\n",
       " 21250,\n",
       " 10729,\n",
       " 14147,\n",
       " 11328,\n",
       " 6359,\n",
       " 20398,\n",
       " 19689,\n",
       " 9625,\n",
       " 13168,\n",
       " 11621,\n",
       " 239,\n",
       " 20440,\n",
       " 19793,\n",
       " 17083,\n",
       " 17861,\n",
       " 1037,\n",
       " 12887,\n",
       " 9785,\n",
       " 9389,\n",
       " 13623,\n",
       " 12340,\n",
       " 16753,\n",
       " 19423,\n",
       " 10582,\n",
       " 12433,\n",
       " 4046,\n",
       " 18249,\n",
       " 19076,\n",
       " 18197,\n",
       " 15738,\n",
       " 15178,\n",
       " 8169,\n",
       " 2528,\n",
       " 8600,\n",
       " 12782,\n",
       " 17572,\n",
       " 14774,\n",
       " 7456,\n",
       " 3468,\n",
       " 7671,\n",
       " 13914,\n",
       " 13740,\n",
       " 10659,\n",
       " 9673,\n",
       " 16007,\n",
       " 18138,\n",
       " 7694,\n",
       " 1598,\n",
       " 12430,\n",
       " 2214,\n",
       " 15079,\n",
       " 2147,\n",
       " 19111,\n",
       " 17052,\n",
       " 2179,\n",
       " 8845,\n",
       " 15763,\n",
       " 4122,\n",
       " 9650,\n",
       " 2546,\n",
       " 12898,\n",
       " 10012,\n",
       " 20611,\n",
       " 8381,\n",
       " 18371,\n",
       " 9315,\n",
       " 2816,\n",
       " 2012,\n",
       " 11672,\n",
       " 7152,\n",
       " 16209,\n",
       " 3951,\n",
       " 16902,\n",
       " 18801,\n",
       " 9022,\n",
       " 1828,\n",
       " 13570,\n",
       " 10485,\n",
       " 13610,\n",
       " 1136,\n",
       " 11827,\n",
       " 4932,\n",
       " 12197,\n",
       " 5179,\n",
       " 16022,\n",
       " 14324,\n",
       " 7415,\n",
       " 16952,\n",
       " 990,\n",
       " 18955,\n",
       " 2392,\n",
       " 11929,\n",
       " 20503,\n",
       " 11480,\n",
       " 21137,\n",
       " 16878,\n",
       " 4997,\n",
       " 1451,\n",
       " 11681,\n",
       " 18477,\n",
       " 5212,\n",
       " 9112,\n",
       " 9141,\n",
       " 2266,\n",
       " 6847,\n",
       " 10512,\n",
       " 7455,\n",
       " 14612,\n",
       " 13640,\n",
       " 17475,\n",
       " 9363,\n",
       " 4260,\n",
       " 19916,\n",
       " 14879,\n",
       " 5663,\n",
       " 14183,\n",
       " 12104,\n",
       " 4559,\n",
       " 11712,\n",
       " 13937,\n",
       " 8561,\n",
       " 7952,\n",
       " 1521,\n",
       " 831,\n",
       " 18910,\n",
       " 9001,\n",
       " 21061,\n",
       " 10686,\n",
       " 842,\n",
       " 19335,\n",
       " 20143,\n",
       " 7993,\n",
       " 2703,\n",
       " 18245,\n",
       " 9777,\n",
       " 4347,\n",
       " 4822,\n",
       " 16275,\n",
       " 1390,\n",
       " 13772,\n",
       " 1354,\n",
       " 6077,\n",
       " 14139,\n",
       " 14680,\n",
       " 13270,\n",
       " 6208,\n",
       " 4464,\n",
       " 6590,\n",
       " 3204,\n",
       " 20697,\n",
       " 18402,\n",
       " 9954,\n",
       " 617,\n",
       " 8627,\n",
       " 3988,\n",
       " 14841,\n",
       " 11438,\n",
       " 13102,\n",
       " 6437,\n",
       " 16787,\n",
       " 1074,\n",
       " 19488,\n",
       " 19271,\n",
       " 15166,\n",
       " 10266,\n",
       " 9496,\n",
       " 20842,\n",
       " 5709,\n",
       " 21228,\n",
       " 12676,\n",
       " 12468,\n",
       " 10170,\n",
       " 12623,\n",
       " 6673,\n",
       " 6435,\n",
       " 20058,\n",
       " 3864,\n",
       " 6641,\n",
       " 9310,\n",
       " 4134,\n",
       " 17685,\n",
       " 3016,\n",
       " 11526,\n",
       " 7487,\n",
       " 19747,\n",
       " 586,\n",
       " 12861,\n",
       " 10348,\n",
       " 12128,\n",
       " 9223,\n",
       " 6159,\n",
       " 19267,\n",
       " 8730,\n",
       " 988,\n",
       " 18268,\n",
       " 8726,\n",
       " 15352,\n",
       " 7006,\n",
       " 13765,\n",
       " 6330,\n",
       " 8012,\n",
       " 7037,\n",
       " 20894,\n",
       " 10644,\n",
       " 12697,\n",
       " 962,\n",
       " 16189,\n",
       " 17570,\n",
       " 4349,\n",
       " 15286,\n",
       " 16520,\n",
       " 4177,\n",
       " 11927,\n",
       " 18191,\n",
       " 1551,\n",
       " 14857,\n",
       " 651,\n",
       " 10939,\n",
       " 14836,\n",
       " 807,\n",
       " 20374,\n",
       " 13901,\n",
       " 13677,\n",
       " 15765,\n",
       " 403,\n",
       " 16758,\n",
       " 873,\n",
       " 13938,\n",
       " 17623,\n",
       " 10508,\n",
       " 15834,\n",
       " 8501,\n",
       " 7936,\n",
       " 8557,\n",
       " 7343,\n",
       " 13212,\n",
       " 4859,\n",
       " 3002,\n",
       " 722,\n",
       " 6299,\n",
       " 14660,\n",
       " 1033,\n",
       " 11121,\n",
       " 7982,\n",
       " 11805,\n",
       " 15989,\n",
       " 12116,\n",
       " 19430,\n",
       " 18170,\n",
       " 713,\n",
       " 3122,\n",
       " 9443,\n",
       " 12789,\n",
       " 4876,\n",
       " 1449,\n",
       " 4917,\n",
       " 9199,\n",
       " 2914,\n",
       " 12931,\n",
       " 3952,\n",
       " 4518,\n",
       " 13309,\n",
       " 4309,\n",
       " 12456,\n",
       " 19596,\n",
       " 7170,\n",
       " 14195,\n",
       " 2920,\n",
       " 1559,\n",
       " 8249,\n",
       " 15262,\n",
       " 18494,\n",
       " 3798,\n",
       " 8155,\n",
       " 20306,\n",
       " 16201,\n",
       " 3128,\n",
       " 11118,\n",
       " 15337,\n",
       " 3219,\n",
       " 12350,\n",
       " 6014,\n",
       " 932,\n",
       " 11332,\n",
       " 19521,\n",
       " 10182,\n",
       " 19922,\n",
       " 14610,\n",
       " 11698,\n",
       " 5842,\n",
       " 16379,\n",
       " 1112,\n",
       " 19151,\n",
       " 6250,\n",
       " 15395,\n",
       " 644,\n",
       " 19366,\n",
       " 2858,\n",
       " 8384,\n",
       " 19615,\n",
       " 15892,\n",
       " 13121,\n",
       " 5520,\n",
       " 11957,\n",
       " 3707,\n",
       " 1797,\n",
       " 16317,\n",
       " 1789,\n",
       " 6958,\n",
       " 19859,\n",
       " 9301,\n",
       " 18190,\n",
       " 20453,\n",
       " 11887,\n",
       " 17947,\n",
       " 5455,\n",
       " 9977,\n",
       " 3588,\n",
       " 4127,\n",
       " 9925,\n",
       " 3843,\n",
       " 10401,\n",
       " 3892,\n",
       " 9189,\n",
       " 180,\n",
       " 2603,\n",
       " 8950,\n",
       " 5815,\n",
       " 1560,\n",
       " 6099,\n",
       " 14905,\n",
       " 6298,\n",
       " 10086,\n",
       " 12083,\n",
       " 3050,\n",
       " 3737,\n",
       " 69,\n",
       " 7713,\n",
       " 19532,\n",
       " 735,\n",
       " 16647,\n",
       " 7510,\n",
       " 838,\n",
       " 3816,\n",
       " 5501,\n",
       " 5465,\n",
       " 9447,\n",
       " 15216,\n",
       " 11511,\n",
       " 2563,\n",
       " 9949,\n",
       " 7223,\n",
       " 414,\n",
       " 19297,\n",
       " 18704,\n",
       " 9440,\n",
       " 783,\n",
       " 9076,\n",
       " 6738,\n",
       " 15368,\n",
       " 17813,\n",
       " 5850,\n",
       " 4018,\n",
       " 12946,\n",
       " 16980,\n",
       " 8681,\n",
       " 9452,\n",
       " 10946,\n",
       " 11910,\n",
       " 4171,\n",
       " 14214,\n",
       " 3182,\n",
       " 17510,\n",
       " 514,\n",
       " 17171,\n",
       " 3849,\n",
       " 15548,\n",
       " 2664,\n",
       " 3961,\n",
       " 1379,\n",
       " 975,\n",
       " 8378,\n",
       " 9116,\n",
       " 20949,\n",
       " 1333,\n",
       " 18541,\n",
       " 19726,\n",
       " 8528,\n",
       " 16533,\n",
       " 14806,\n",
       " 9197,\n",
       " 16664,\n",
       " 581,\n",
       " 18369,\n",
       " 15964,\n",
       " 15338,\n",
       " 9100,\n",
       " 13341,\n",
       " 8315,\n",
       " 6971,\n",
       " 1089,\n",
       " 20924,\n",
       " 9674,\n",
       " 17235,\n",
       " 1438,\n",
       " 6189,\n",
       " 14949,\n",
       " 3527,\n",
       " 12733,\n",
       " 14876,\n",
       " 19528,\n",
       " 18753,\n",
       " 8290,\n",
       " 564,\n",
       " 2889,\n",
       " 209,\n",
       " 12135,\n",
       " 14150,\n",
       " 11350,\n",
       " 2111,\n",
       " 254,\n",
       " 18235,\n",
       " 14117,\n",
       " 16306,\n",
       " 20427,\n",
       " 5780,\n",
       " 17134,\n",
       " 12095,\n",
       " 7088,\n",
       " 7044,\n",
       " 16295,\n",
       " 6151,\n",
       " 15782,\n",
       " 20537,\n",
       " 18507,\n",
       " 19435,\n",
       " 432,\n",
       " 16185,\n",
       " 21176,\n",
       " 16443,\n",
       " 1187,\n",
       " 9313,\n",
       " 15112,\n",
       " 1149,\n",
       " 9339,\n",
       " 10286,\n",
       " 2694,\n",
       " 7476,\n",
       " 330,\n",
       " 9190,\n",
       " 19230,\n",
       " 11683,\n",
       " 7891,\n",
       " 8183,\n",
       " 20243,\n",
       " 16636,\n",
       " 6048,\n",
       " 8450,\n",
       " 20612,\n",
       " 10612,\n",
       " 18423,\n",
       " 6922,\n",
       " 11443,\n",
       " 4211,\n",
       " 17890,\n",
       " 13719,\n",
       " 14853,\n",
       " 15893,\n",
       " 15359,\n",
       " 14740,\n",
       " 9054,\n",
       " 8051,\n",
       " 2794,\n",
       " 3152,\n",
       " 3778,\n",
       " 20817,\n",
       " 13568,\n",
       " 10033,\n",
       " 10260,\n",
       " 2970,\n",
       " 15123,\n",
       " 1049,\n",
       " 8933,\n",
       " 18950,\n",
       " 7204,\n",
       " 1142,\n",
       " 47,\n",
       " 4004,\n",
       " 1162,\n",
       " 5560,\n",
       " 2654,\n",
       " 14100,\n",
       " 8131,\n",
       " 14115,\n",
       " 8462,\n",
       " 8757,\n",
       " 14765,\n",
       " 18169,\n",
       " 8044,\n",
       " 10159,\n",
       " 78,\n",
       " 14904,\n",
       " 14090,\n",
       " 3250,\n",
       " 19544,\n",
       " 14233,\n",
       " 18435,\n",
       " 13490,\n",
       " 4843,\n",
       " 7958,\n",
       " 88,\n",
       " 5990,\n",
       " 8597,\n",
       " 8523,\n",
       " 16332,\n",
       " 20980,\n",
       " 13718,\n",
       " 2226,\n",
       " 15836,\n",
       " 18012,\n",
       " 8238,\n",
       " 9677,\n",
       " 2516,\n",
       " 6293,\n",
       " 10422,\n",
       " 21206,\n",
       " 14597,\n",
       " 3401,\n",
       " 20178,\n",
       " 17013,\n",
       " 17353,\n",
       " 12019,\n",
       " 13146,\n",
       " 7675,\n",
       " 16573,\n",
       " 13449,\n",
       " 17079,\n",
       " 4892,\n",
       " 18698,\n",
       " 11525,\n",
       " 20502,\n",
       " 10749,\n",
       " 8212,\n",
       " 17265,\n",
       " 2884,\n",
       " 302,\n",
       " 7634,\n",
       " 19060,\n",
       " 2750,\n",
       " 17222,\n",
       " 13877,\n",
       " 8180,\n",
       " 6681,\n",
       " 13973,\n",
       " 11163,\n",
       " 4092,\n",
       " 7570,\n",
       " 12225,\n",
       " 12310,\n",
       " 15727,\n",
       " 13554,\n",
       " 13414,\n",
       " 21046,\n",
       " 2380,\n",
       " 16143,\n",
       " 5756,\n",
       " 12059,\n",
       " 8121,\n",
       " 17809,\n",
       " 13114,\n",
       " 1392,\n",
       " 17249,\n",
       " 15820,\n",
       " 20057,\n",
       " 6195,\n",
       " 18274,\n",
       " 20557,\n",
       " 11856,\n",
       " 7259,\n",
       " 693,\n",
       " 4913,\n",
       " 10689,\n",
       " 12289,\n",
       " 18096,\n",
       " 10123,\n",
       " 5647,\n",
       " 6225,\n",
       " 16918,\n",
       " 16459,\n",
       " 14362,\n",
       " 14295,\n",
       " 10162,\n",
       " 10780,\n",
       " 4175,\n",
       " 6090,\n",
       " 6370,\n",
       " 16947,\n",
       " 6579,\n",
       " 19501,\n",
       " 19232,\n",
       " 1325,\n",
       " 18574,\n",
       " 13306,\n",
       " 18816,\n",
       " 4762,\n",
       " 6821,\n",
       " 8434,\n",
       " 6498,\n",
       " 3901,\n",
       " 13248,\n",
       " 6873,\n",
       " 14941,\n",
       " 3298,\n",
       " 3141,\n",
       " 1082,\n",
       " 7735,\n",
       " 4357,\n",
       " 8400,\n",
       " 17009,\n",
       " 19768,\n",
       " 9535,\n",
       " 256,\n",
       " 11667,\n",
       " 6668,\n",
       " 3349,\n",
       " 10177,\n",
       " 19468,\n",
       " 20169,\n",
       " 1467,\n",
       " 13247,\n",
       " 1246,\n",
       " 16767,\n",
       " 2182,\n",
       " 7643,\n",
       " 11543,\n",
       " 9773,\n",
       " 7010,\n",
       " 17880,\n",
       " 20762,\n",
       " 3479,\n",
       " 13702,\n",
       " 9702,\n",
       " 13242,\n",
       " 18379,\n",
       " 15407,\n",
       " 15562,\n",
       " 3868,\n",
       " 2166,\n",
       " 4818,\n",
       " 20604,\n",
       " 2615,\n",
       " 19926,\n",
       " 4942,\n",
       " 6655,\n",
       " 7938,\n",
       " 4581,\n",
       " 18082,\n",
       " 5660,\n",
       " 8320,\n",
       " 5054,\n",
       " 5371,\n",
       " 19537,\n",
       " 2697,\n",
       " 21190,\n",
       " 17376,\n",
       " 2992,\n",
       " 18971,\n",
       " 15645,\n",
       " 19506,\n",
       " 4217,\n",
       " 4962,\n",
       " 7466,\n",
       " 14595,\n",
       " 18075,\n",
       " 20093,\n",
       " 14666,\n",
       " 19927,\n",
       " 13571,\n",
       " 16186,\n",
       " 14469,\n",
       " 3661,\n",
       " 11728,\n",
       " 11753,\n",
       " 2472,\n",
       " 17595,\n",
       " 496,\n",
       " 2622,\n",
       " 3521,\n",
       " 3412,\n",
       " 2638,\n",
       " 216,\n",
       " 17832,\n",
       " 18629,\n",
       " 4956,\n",
       " 4598,\n",
       " 14484,\n",
       " 6854,\n",
       " 9912,\n",
       " 15454,\n",
       " 11708,\n",
       " 4651,\n",
       " 12721,\n",
       " 1212,\n",
       " 19719,\n",
       " 12991,\n",
       " 19876,\n",
       " 3067,\n",
       " 6592,\n",
       " 16255,\n",
       " 7050,\n",
       " 3162,\n",
       " 7625,\n",
       " 9568,\n",
       " 7849,\n",
       " 1399,\n",
       " 11405,\n",
       " 15563,\n",
       " 10987,\n",
       " 1189,\n",
       " 1232,\n",
       " 18102,\n",
       " 17274,\n",
       " 7517,\n",
       " 6924,\n",
       " 4794,\n",
       " 6408,\n",
       " 10970,\n",
       " 127,\n",
       " 2575,\n",
       " 6866,\n",
       " 10404,\n",
       " 14220,\n",
       " 862,\n",
       " 827,\n",
       " 9021,\n",
       " 21241,\n",
       " 18535,\n",
       " 699,\n",
       " 8568,\n",
       " 7942,\n",
       " 609,\n",
       " 9530,\n",
       " 15122,\n",
       " 6893,\n",
       " 16900,\n",
       " 394,\n",
       " 15915,\n",
       " 6029,\n",
       " 778,\n",
       " 15714,\n",
       " 11470,\n",
       " 14676,\n",
       " 9764,\n",
       " 18887,\n",
       " 20344,\n",
       " 13196,\n",
       " 7238,\n",
       " 15776,\n",
       " 2167,\n",
       " 8511,\n",
       " 16058,\n",
       " 7583,\n",
       " 7228,\n",
       " 8991,\n",
       " 5305,\n",
       " 340,\n",
       " 14372,\n",
       " 11893,\n",
       " 16517,\n",
       " 11589,\n",
       " 4013,\n",
       " 983,\n",
       " 4100,\n",
       " 19507,\n",
       " 9479,\n",
       " 3873,\n",
       " 12588,\n",
       " 21134,\n",
       " 13211,\n",
       " 15601,\n",
       " 3560,\n",
       " 6810,\n",
       " 8075,\n",
       " 3375,\n",
       " 11632,\n",
       " 8927,\n",
       " 10853,\n",
       " 15639,\n",
       " 8146,\n",
       " 11372,\n",
       " 39,\n",
       " 7394,\n",
       " 18870,\n",
       " 20816,\n",
       " 9048,\n",
       " 8702,\n",
       " 11833,\n",
       " 2076,\n",
       " 20714,\n",
       " 17327,\n",
       " 19334,\n",
       " 3447,\n",
       " 3351,\n",
       " 9380,\n",
       " 10782,\n",
       " 7597,\n",
       " 6670,\n",
       " 4716,\n",
       " 2507,\n",
       " 19742,\n",
       " 4226,\n",
       " 3249,\n",
       " 2258,\n",
       " 7498,\n",
       " 4683,\n",
       " 11155,\n",
       " 3617,\n",
       " 2997,\n",
       " 3391,\n",
       " 12725,\n",
       " 14264,\n",
       " 3835,\n",
       " 2904,\n",
       " 11669,\n",
       " 20397,\n",
       " 19362,\n",
       " 11561,\n",
       " 706,\n",
       " 6600,\n",
       " 5982,\n",
       " 1004,\n",
       " 4485,\n",
       " 19678,\n",
       " 20715,\n",
       " 4124,\n",
       " 17612,\n",
       " 8411,\n",
       " 8682,\n",
       " 18409,\n",
       " 12466,\n",
       " 14528,\n",
       " 10045,\n",
       " 2784,\n",
       " 15314,\n",
       " 16242,\n",
       " 8050,\n",
       " 3285,\n",
       " 21058,\n",
       " 13841,\n",
       " 16284,\n",
       " ...]"
      ]
     },
     "execution_count": 71,
     "metadata": {},
     "output_type": "execute_result"
    }
   ],
   "source": [
    "list(df[\"UNIQUE_ID\"].unique())"
   ]
  },
  {
   "cell_type": "code",
   "execution_count": 72,
   "metadata": {},
   "outputs": [
    {
     "data": {
      "text/plain": [
       "21261"
      ]
     },
     "execution_count": 72,
     "metadata": {},
     "output_type": "execute_result"
    }
   ],
   "source": [
    "df_train['UNIQUE_ID'].nunique()"
   ]
  },
  {
   "cell_type": "code",
   "execution_count": 73,
   "metadata": {},
   "outputs": [
    {
     "data": {
      "text/plain": [
       "21261"
      ]
     },
     "execution_count": 73,
     "metadata": {},
     "output_type": "execute_result"
    }
   ],
   "source": [
    "df_val['UNIQUE_ID'].nunique()"
   ]
  },
  {
   "cell_type": "code",
   "execution_count": 74,
   "metadata": {},
   "outputs": [
    {
     "data": {
      "text/plain": [
       "21261"
      ]
     },
     "execution_count": 74,
     "metadata": {},
     "output_type": "execute_result"
    }
   ],
   "source": [
    "deaths[\"UNIQUE_ID\"].nunique()"
   ]
  },
  {
   "cell_type": "code",
   "execution_count": 75,
   "metadata": {},
   "outputs": [
    {
     "data": {
      "text/plain": [
       "21261"
      ]
     },
     "execution_count": 75,
     "metadata": {},
     "output_type": "execute_result"
    }
   ],
   "source": [
    "df[\"UNIQUE_ID\"].nunique()"
   ]
  },
  {
   "cell_type": "code",
   "execution_count": 76,
   "metadata": {},
   "outputs": [],
   "source": [
    "import torch"
   ]
  },
  {
   "cell_type": "code",
   "execution_count": 77,
   "metadata": {},
   "outputs": [],
   "source": [
    "a=torch.tensor([3,2,1])"
   ]
  },
  {
   "cell_type": "code",
   "execution_count": 78,
   "metadata": {},
   "outputs": [],
   "source": [
    "b=a.repeat(10,5,1)"
   ]
  },
  {
   "cell_type": "code",
   "execution_count": 79,
   "metadata": {},
   "outputs": [
    {
     "data": {
      "text/plain": [
       "torch.Size([10, 5, 3])"
      ]
     },
     "execution_count": 79,
     "metadata": {},
     "output_type": "execute_result"
    }
   ],
   "source": [
    "b.shape"
   ]
  },
  {
   "cell_type": "code",
   "execution_count": 80,
   "metadata": {},
   "outputs": [
    {
     "ename": "TypeError",
     "evalue": "cumsum() received an invalid combination of arguments - got (Tensor), but expected one of:\n * (Tensor input, name dim, torch.dtype dtype, Tensor out)\n * (Tensor input, int dim, torch.dtype dtype, Tensor out)\n",
     "output_type": "error",
     "traceback": [
      "\u001b[0;31m---------------------------------------------------------------------------\u001b[0m",
      "\u001b[0;31mTypeError\u001b[0m                                 Traceback (most recent call last)",
      "\u001b[0;32m<ipython-input-80-de53a9cfd40d>\u001b[0m in \u001b[0;36m<module>\u001b[0;34m\u001b[0m\n\u001b[0;32m----> 1\u001b[0;31m \u001b[0mtorch\u001b[0m\u001b[0;34m.\u001b[0m\u001b[0mcumsum\u001b[0m\u001b[0;34m(\u001b[0m\u001b[0mb\u001b[0m\u001b[0;34m)\u001b[0m\u001b[0;34m\u001b[0m\u001b[0;34m\u001b[0m\u001b[0m\n\u001b[0m",
      "\u001b[0;31mTypeError\u001b[0m: cumsum() received an invalid combination of arguments - got (Tensor), but expected one of:\n * (Tensor input, name dim, torch.dtype dtype, Tensor out)\n * (Tensor input, int dim, torch.dtype dtype, Tensor out)\n"
     ]
    }
   ],
   "source": [
    "torch.cumsum(b)"
   ]
  },
  {
   "cell_type": "code",
   "execution_count": 81,
   "metadata": {},
   "outputs": [],
   "source": [
    "import torch\n",
    "import numpy as np"
   ]
  },
  {
   "cell_type": "code",
   "execution_count": 82,
   "metadata": {},
   "outputs": [],
   "source": [
    "a=torch.tensor([np.nan, 3, 4, np.nan])"
   ]
  },
  {
   "cell_type": "code",
   "execution_count": 83,
   "metadata": {},
   "outputs": [],
   "source": [
    "observed_mask=a==a"
   ]
  },
  {
   "cell_type": "code",
   "execution_count": 84,
   "metadata": {},
   "outputs": [
    {
     "data": {
      "text/plain": [
       "tensor([False,  True,  True, False])"
      ]
     },
     "execution_count": 84,
     "metadata": {},
     "output_type": "execute_result"
    }
   ],
   "source": [
    "observed_mask"
   ]
  },
  {
   "cell_type": "code",
   "execution_count": 85,
   "metadata": {},
   "outputs": [],
   "source": [
    "a=torch.randn((3,4,5))\n",
    "b=torch.randn((3,4,5))\n",
    "c=torch.randn((3,4,5))"
   ]
  },
  {
   "cell_type": "code",
   "execution_count": 86,
   "metadata": {},
   "outputs": [
    {
     "data": {
      "text/plain": [
       "torch.Size([9, 4, 5])"
      ]
     },
     "execution_count": 86,
     "metadata": {},
     "output_type": "execute_result"
    }
   ],
   "source": [
    "d=torch.cat((a,b,c))\n",
    "d.size()"
   ]
  },
  {
   "cell_type": "code",
   "execution_count": 87,
   "metadata": {},
   "outputs": [
    {
     "name": "stdout",
     "output_type": "stream",
     "text": [
      "torch.float32\n"
     ]
    }
   ],
   "source": [
    "print(d.dtype)"
   ]
  },
  {
   "cell_type": "code",
   "execution_count": 88,
   "metadata": {},
   "outputs": [],
   "source": [
    "z=torch.zeros((4))"
   ]
  },
  {
   "cell_type": "code",
   "execution_count": 89,
   "metadata": {},
   "outputs": [
    {
     "ename": "RuntimeError",
     "evalue": "Subtraction, the `-` operator, with a bool tensor is not supported. If you are trying to invert a mask, use the `~` or `logical_not()` operator instead.",
     "output_type": "error",
     "traceback": [
      "\u001b[0;31m---------------------------------------------------------------------------\u001b[0m",
      "\u001b[0;31mRuntimeError\u001b[0m                              Traceback (most recent call last)",
      "\u001b[0;32m<ipython-input-89-0942b1ec2401>\u001b[0m in \u001b[0;36m<module>\u001b[0;34m\u001b[0m\n\u001b[0;32m----> 1\u001b[0;31m \u001b[0mtorch\u001b[0m\u001b[0;34m.\u001b[0m\u001b[0mzeros\u001b[0m\u001b[0;34m(\u001b[0m\u001b[0;34m(\u001b[0m\u001b[0;36m4\u001b[0m\u001b[0;34m)\u001b[0m\u001b[0;34m)\u001b[0m\u001b[0;34m.\u001b[0m\u001b[0mmasked_scatter_\u001b[0m\u001b[0;34m(\u001b[0m\u001b[0;36m1\u001b[0m\u001b[0;34m-\u001b[0m\u001b[0mobserved_mask\u001b[0m\u001b[0;34m,\u001b[0m\u001b[0ma\u001b[0m\u001b[0;34m)\u001b[0m\u001b[0;34m\u001b[0m\u001b[0;34m\u001b[0m\u001b[0m\n\u001b[0m",
      "\u001b[0;32m~/helen/envs/py3env/lib/python3.6/site-packages/torch/tensor.py\u001b[0m in \u001b[0;36m__rsub__\u001b[0;34m(self, other)\u001b[0m\n\u001b[1;32m    344\u001b[0m \u001b[0;34m\u001b[0m\u001b[0m\n\u001b[1;32m    345\u001b[0m     \u001b[0;32mdef\u001b[0m \u001b[0m__rsub__\u001b[0m\u001b[0;34m(\u001b[0m\u001b[0mself\u001b[0m\u001b[0;34m,\u001b[0m \u001b[0mother\u001b[0m\u001b[0;34m)\u001b[0m\u001b[0;34m:\u001b[0m\u001b[0;34m\u001b[0m\u001b[0;34m\u001b[0m\u001b[0m\n\u001b[0;32m--> 346\u001b[0;31m         \u001b[0;32mreturn\u001b[0m \u001b[0m_C\u001b[0m\u001b[0;34m.\u001b[0m\u001b[0m_VariableFunctions\u001b[0m\u001b[0;34m.\u001b[0m\u001b[0mrsub\u001b[0m\u001b[0;34m(\u001b[0m\u001b[0mself\u001b[0m\u001b[0;34m,\u001b[0m \u001b[0mother\u001b[0m\u001b[0;34m)\u001b[0m\u001b[0;34m\u001b[0m\u001b[0;34m\u001b[0m\u001b[0m\n\u001b[0m\u001b[1;32m    347\u001b[0m \u001b[0;34m\u001b[0m\u001b[0m\n\u001b[1;32m    348\u001b[0m     \u001b[0;32mdef\u001b[0m \u001b[0m__rdiv__\u001b[0m\u001b[0;34m(\u001b[0m\u001b[0mself\u001b[0m\u001b[0;34m,\u001b[0m \u001b[0mother\u001b[0m\u001b[0;34m)\u001b[0m\u001b[0;34m:\u001b[0m\u001b[0;34m\u001b[0m\u001b[0;34m\u001b[0m\u001b[0m\n",
      "\u001b[0;31mRuntimeError\u001b[0m: Subtraction, the `-` operator, with a bool tensor is not supported. If you are trying to invert a mask, use the `~` or `logical_not()` operator instead."
     ]
    }
   ],
   "source": [
    "torch.zeros((4)).masked_scatter_(1-observed_mask,a)"
   ]
  },
  {
   "cell_type": "code",
   "execution_count": 90,
   "metadata": {},
   "outputs": [
    {
     "data": {
      "text/plain": [
       "tensor([[[ 0.4231, -0.6936,  0.0659, -1.1169, -0.8618],\n",
       "         [-0.4217,  0.2804, -0.1348,  0.9836, -0.5937],\n",
       "         [-1.9190,  0.7852,  0.9566,  0.2724, -0.3810],\n",
       "         [ 0.5250, -0.4603, -0.8340, -0.0240, -1.0553]],\n",
       "\n",
       "        [[-1.0292,  0.1356,  1.2854, -0.9772,  0.0598],\n",
       "         [-0.1881, -0.8667, -0.4070, -0.7744,  0.4576],\n",
       "         [-1.0031,  0.8209, -0.6901, -0.3376,  0.5351],\n",
       "         [-1.2048,  0.8539, -0.8817,  1.3726,  2.8005]],\n",
       "\n",
       "        [[ 1.5904,  0.3083,  0.8984,  0.3751, -1.1353],\n",
       "         [ 0.7193, -0.3301,  0.1424,  0.8825, -1.4034],\n",
       "         [-1.1797,  0.4625,  0.6584,  0.9154, -1.3356],\n",
       "         [-0.6344,  0.0059,  1.8682,  1.4238, -1.0507]]])"
      ]
     },
     "execution_count": 90,
     "metadata": {},
     "output_type": "execute_result"
    }
   ],
   "source": [
    "a.float()"
   ]
  },
  {
   "cell_type": "code",
   "execution_count": 91,
   "metadata": {},
   "outputs": [
    {
     "data": {
      "text/plain": [
       "torch.float32"
      ]
     },
     "execution_count": 91,
     "metadata": {},
     "output_type": "execute_result"
    }
   ],
   "source": [
    "a.dtype"
   ]
  },
  {
   "cell_type": "code",
   "execution_count": 92,
   "metadata": {},
   "outputs": [
    {
     "ename": "RuntimeError",
     "evalue": "Number of dimensions of repeat dims can not be smaller than number of dimensions of tensor",
     "output_type": "error",
     "traceback": [
      "\u001b[0;31m---------------------------------------------------------------------------\u001b[0m",
      "\u001b[0;31mRuntimeError\u001b[0m                              Traceback (most recent call last)",
      "\u001b[0;32m<ipython-input-92-efd1c08cc90e>\u001b[0m in \u001b[0;36m<module>\u001b[0;34m\u001b[0m\n\u001b[0;32m----> 1\u001b[0;31m \u001b[0mb\u001b[0m\u001b[0;34m=\u001b[0m\u001b[0ma\u001b[0m\u001b[0;34m.\u001b[0m\u001b[0mrepeat\u001b[0m\u001b[0;34m(\u001b[0m\u001b[0;36m3\u001b[0m\u001b[0;34m)\u001b[0m\u001b[0;34m\u001b[0m\u001b[0;34m\u001b[0m\u001b[0m\n\u001b[0m",
      "\u001b[0;31mRuntimeError\u001b[0m: Number of dimensions of repeat dims can not be smaller than number of dimensions of tensor"
     ]
    }
   ],
   "source": [
    "b=a.repeat(3)"
   ]
  },
  {
   "cell_type": "code",
   "execution_count": 93,
   "metadata": {},
   "outputs": [
    {
     "data": {
      "text/plain": [
       "tensor([[[-1.5264,  0.0365,  0.5300, -0.6750,  0.5002],\n",
       "         [-0.6527, -0.2806, -0.8242, -0.7045,  0.0145],\n",
       "         [ 0.0497,  1.1045,  1.2781, -1.0023,  0.3211],\n",
       "         [-0.4914,  0.9335,  0.1841, -0.6040,  0.1160]],\n",
       "\n",
       "        [[ 0.6994, -0.7766,  1.0051, -0.1699,  1.1824],\n",
       "         [-0.4115,  0.1777,  1.0795,  0.1298, -0.9067],\n",
       "         [ 0.1460,  0.9107,  0.8421, -0.0527, -0.1341],\n",
       "         [-1.0183,  1.1907, -1.9653, -1.7193,  0.9014]],\n",
       "\n",
       "        [[-0.5183,  0.9285, -1.3642, -0.5401, -0.0257],\n",
       "         [-0.9737,  0.8643, -0.9359, -0.9328, -0.5730],\n",
       "         [ 2.3268,  0.8037, -0.9501,  0.7373,  0.4597],\n",
       "         [ 0.4878,  0.7656,  0.1542, -0.7859,  0.4543]]])"
      ]
     },
     "execution_count": 93,
     "metadata": {},
     "output_type": "execute_result"
    }
   ],
   "source": [
    "b"
   ]
  },
  {
   "cell_type": "code",
   "execution_count": 94,
   "metadata": {},
   "outputs": [
    {
     "ename": "NameError",
     "evalue": "name 'device' is not defined",
     "output_type": "error",
     "traceback": [
      "\u001b[0;31m---------------------------------------------------------------------------\u001b[0m",
      "\u001b[0;31mNameError\u001b[0m                                 Traceback (most recent call last)",
      "\u001b[0;32m<ipython-input-94-f9a8f319de57>\u001b[0m in \u001b[0;36m<module>\u001b[0;34m\u001b[0m\n\u001b[0;32m----> 1\u001b[0;31m \u001b[0mb\u001b[0m\u001b[0;34m.\u001b[0m\u001b[0mto\u001b[0m\u001b[0;34m(\u001b[0m\u001b[0mdevice\u001b[0m\u001b[0;34m)\u001b[0m\u001b[0;34m\u001b[0m\u001b[0;34m\u001b[0m\u001b[0m\n\u001b[0m",
      "\u001b[0;31mNameError\u001b[0m: name 'device' is not defined"
     ]
    }
   ],
   "source": [
    "b.to(device)"
   ]
  },
  {
   "cell_type": "code",
   "execution_count": 95,
   "metadata": {},
   "outputs": [],
   "source": [
    "device=torch.device(\"cpu\")"
   ]
  },
  {
   "cell_type": "code",
   "execution_count": 96,
   "metadata": {},
   "outputs": [
    {
     "data": {
      "text/plain": [
       "torch.float32"
      ]
     },
     "execution_count": 96,
     "metadata": {},
     "output_type": "execute_result"
    }
   ],
   "source": [
    "b.dtype"
   ]
  },
  {
   "cell_type": "code",
   "execution_count": 97,
   "metadata": {},
   "outputs": [
    {
     "data": {
      "text/plain": [
       "[array([1, 3, 2]), array([0])]"
      ]
     },
     "execution_count": 97,
     "metadata": {},
     "output_type": "execute_result"
    }
   ],
   "source": [
    "train_test_split(np.arange(4),test_size=0.2)"
   ]
  },
  {
   "cell_type": "code",
   "execution_count": 98,
   "metadata": {},
   "outputs": [],
   "source": [
    "a=3\n",
    "#a=None"
   ]
  },
  {
   "cell_type": "code",
   "execution_count": 99,
   "metadata": {},
   "outputs": [
    {
     "data": {
      "text/plain": [
       "True"
      ]
     },
     "execution_count": 99,
     "metadata": {},
     "output_type": "execute_result"
    }
   ],
   "source": [
    "a is not None "
   ]
  },
  {
   "cell_type": "code",
   "execution_count": 100,
   "metadata": {},
   "outputs": [],
   "source": [
    "df=pd.read_csv(outfile_path+\"complete_tensor.csv\")"
   ]
  },
  {
   "cell_type": "code",
   "execution_count": 101,
   "metadata": {},
   "outputs": [
    {
     "data": {
      "text/plain": [
       "3266980"
      ]
     },
     "execution_count": 101,
     "metadata": {},
     "output_type": "execute_result"
    }
   ],
   "source": [
    "len(df.index)"
   ]
  },
  {
   "cell_type": "code",
   "execution_count": 102,
   "metadata": {},
   "outputs": [
    {
     "data": {
      "text/html": [
       "<div>\n",
       "<style scoped>\n",
       "    .dataframe tbody tr th:only-of-type {\n",
       "        vertical-align: middle;\n",
       "    }\n",
       "\n",
       "    .dataframe tbody tr th {\n",
       "        vertical-align: top;\n",
       "    }\n",
       "\n",
       "    .dataframe thead th {\n",
       "        text-align: right;\n",
       "    }\n",
       "</style>\n",
       "<table border=\"1\" class=\"dataframe\">\n",
       "  <thead>\n",
       "    <tr style=\"text-align: right;\">\n",
       "      <th></th>\n",
       "      <th>Unnamed: 0</th>\n",
       "      <th>UNIQUE_ID</th>\n",
       "      <th>LABEL_CODE</th>\n",
       "      <th>TIME_STAMP</th>\n",
       "      <th>VALUENUM</th>\n",
       "      <th>MEAN</th>\n",
       "      <th>STD</th>\n",
       "      <th>VALUENORM</th>\n",
       "    </tr>\n",
       "  </thead>\n",
       "  <tbody>\n",
       "    <tr>\n",
       "      <td>0</td>\n",
       "      <td>0</td>\n",
       "      <td>8157</td>\n",
       "      <td>0</td>\n",
       "      <td>0</td>\n",
       "      <td>15.0</td>\n",
       "      <td>14.333331</td>\n",
       "      <td>3.958015</td>\n",
       "      <td>0.168435</td>\n",
       "    </tr>\n",
       "    <tr>\n",
       "      <td>1</td>\n",
       "      <td>1</td>\n",
       "      <td>8157</td>\n",
       "      <td>0</td>\n",
       "      <td>791</td>\n",
       "      <td>12.0</td>\n",
       "      <td>14.333331</td>\n",
       "      <td>3.958015</td>\n",
       "      <td>-0.589520</td>\n",
       "    </tr>\n",
       "    <tr>\n",
       "      <td>2</td>\n",
       "      <td>2</td>\n",
       "      <td>8157</td>\n",
       "      <td>0</td>\n",
       "      <td>1770</td>\n",
       "      <td>10.0</td>\n",
       "      <td>14.333331</td>\n",
       "      <td>3.958015</td>\n",
       "      <td>-1.094824</td>\n",
       "    </tr>\n",
       "    <tr>\n",
       "      <td>3</td>\n",
       "      <td>3</td>\n",
       "      <td>8157</td>\n",
       "      <td>1</td>\n",
       "      <td>0</td>\n",
       "      <td>25.0</td>\n",
       "      <td>23.683464</td>\n",
       "      <td>4.552429</td>\n",
       "      <td>0.289194</td>\n",
       "    </tr>\n",
       "    <tr>\n",
       "      <td>4</td>\n",
       "      <td>4</td>\n",
       "      <td>8157</td>\n",
       "      <td>1</td>\n",
       "      <td>791</td>\n",
       "      <td>25.0</td>\n",
       "      <td>23.683464</td>\n",
       "      <td>4.552429</td>\n",
       "      <td>0.289194</td>\n",
       "    </tr>\n",
       "    <tr>\n",
       "      <td>...</td>\n",
       "      <td>...</td>\n",
       "      <td>...</td>\n",
       "      <td>...</td>\n",
       "      <td>...</td>\n",
       "      <td>...</td>\n",
       "      <td>...</td>\n",
       "      <td>...</td>\n",
       "      <td>...</td>\n",
       "    </tr>\n",
       "    <tr>\n",
       "      <td>3266975</td>\n",
       "      <td>3266975</td>\n",
       "      <td>16790</td>\n",
       "      <td>62</td>\n",
       "      <td>2640</td>\n",
       "      <td>43.0</td>\n",
       "      <td>113.864592</td>\n",
       "      <td>120.240876</td>\n",
       "      <td>-0.589355</td>\n",
       "    </tr>\n",
       "    <tr>\n",
       "      <td>3266976</td>\n",
       "      <td>3266976</td>\n",
       "      <td>16790</td>\n",
       "      <td>62</td>\n",
       "      <td>2700</td>\n",
       "      <td>40.0</td>\n",
       "      <td>113.864592</td>\n",
       "      <td>120.240876</td>\n",
       "      <td>-0.614305</td>\n",
       "    </tr>\n",
       "    <tr>\n",
       "      <td>3266977</td>\n",
       "      <td>3266977</td>\n",
       "      <td>16790</td>\n",
       "      <td>62</td>\n",
       "      <td>2760</td>\n",
       "      <td>40.0</td>\n",
       "      <td>113.864592</td>\n",
       "      <td>120.240876</td>\n",
       "      <td>-0.614305</td>\n",
       "    </tr>\n",
       "    <tr>\n",
       "      <td>3266978</td>\n",
       "      <td>3266978</td>\n",
       "      <td>16790</td>\n",
       "      <td>62</td>\n",
       "      <td>2820</td>\n",
       "      <td>55.0</td>\n",
       "      <td>113.864592</td>\n",
       "      <td>120.240876</td>\n",
       "      <td>-0.489556</td>\n",
       "    </tr>\n",
       "    <tr>\n",
       "      <td>3266979</td>\n",
       "      <td>3266979</td>\n",
       "      <td>16790</td>\n",
       "      <td>40</td>\n",
       "      <td>0</td>\n",
       "      <td>2.0</td>\n",
       "      <td>4.159742</td>\n",
       "      <td>3.337039</td>\n",
       "      <td>-0.647203</td>\n",
       "    </tr>\n",
       "  </tbody>\n",
       "</table>\n",
       "<p>3266980 rows × 8 columns</p>\n",
       "</div>"
      ],
      "text/plain": [
       "         Unnamed: 0  UNIQUE_ID  LABEL_CODE  TIME_STAMP  VALUENUM        MEAN  \\\n",
       "0                 0       8157           0           0      15.0   14.333331   \n",
       "1                 1       8157           0         791      12.0   14.333331   \n",
       "2                 2       8157           0        1770      10.0   14.333331   \n",
       "3                 3       8157           1           0      25.0   23.683464   \n",
       "4                 4       8157           1         791      25.0   23.683464   \n",
       "...             ...        ...         ...         ...       ...         ...   \n",
       "3266975     3266975      16790          62        2640      43.0  113.864592   \n",
       "3266976     3266976      16790          62        2700      40.0  113.864592   \n",
       "3266977     3266977      16790          62        2760      40.0  113.864592   \n",
       "3266978     3266978      16790          62        2820      55.0  113.864592   \n",
       "3266979     3266979      16790          40           0       2.0    4.159742   \n",
       "\n",
       "                STD  VALUENORM  \n",
       "0          3.958015   0.168435  \n",
       "1          3.958015  -0.589520  \n",
       "2          3.958015  -1.094824  \n",
       "3          4.552429   0.289194  \n",
       "4          4.552429   0.289194  \n",
       "...             ...        ...  \n",
       "3266975  120.240876  -0.589355  \n",
       "3266976  120.240876  -0.614305  \n",
       "3266977  120.240876  -0.614305  \n",
       "3266978  120.240876  -0.489556  \n",
       "3266979    3.337039  -0.647203  \n",
       "\n",
       "[3266980 rows x 8 columns]"
      ]
     },
     "execution_count": 102,
     "metadata": {},
     "output_type": "execute_result"
    }
   ],
   "source": [
    "df"
   ]
  },
  {
   "cell_type": "code",
   "execution_count": 103,
   "metadata": {},
   "outputs": [
    {
     "name": "stderr",
     "output_type": "stream",
     "text": [
      "/home/hlzhou/helen/envs/py3env/lib/python3.6/site-packages/IPython/core/interactiveshell.py:3058: DtypeWarning: Columns (6,9) have mixed types. Specify dtype option on import or set low_memory=False.\n",
      "  interactivity=interactivity, compiler=compiler, result=result)\n"
     ]
    }
   ],
   "source": [
    "lab_df=pd.read_csv(file_path+\"LAB_processed.csv\")"
   ]
  },
  {
   "cell_type": "code",
   "execution_count": 104,
   "metadata": {},
   "outputs": [
    {
     "data": {
      "text/plain": [
       "array(['Anion Gap', 'Bicarbonate', 'Calcium, Total', 'Chloride',\n",
       "       'Creatinine', 'Glucose', 'Magnesium', 'Phosphate', 'Potassium',\n",
       "       'Sodium', 'Alkaline Phosphatase',\n",
       "       'Asparate Aminotransferase (AST)', 'Bilirubin, Total',\n",
       "       'Urea Nitrogen', 'Basophils', 'Eosinophils', 'Hematocrit',\n",
       "       'Hemoglobin', 'Lymphocytes', 'MCH', 'MCHC', 'MCV', 'Monocytes',\n",
       "       'Neutrophils', 'Platelet Count', 'RDW', 'Red Blood Cells',\n",
       "       'White Blood Cells', 'PTT', 'Base Excess', 'Calculated Total CO2',\n",
       "       'Lactate', 'pCO2', 'pH', 'pO2', 'PT',\n",
       "       'Alanine Aminotransferase (ALT)', 'Albumin', 'Specific Gravity'],\n",
       "      dtype=object)"
      ]
     },
     "execution_count": 104,
     "metadata": {},
     "output_type": "execute_result"
    }
   ],
   "source": [
    "lab_df[\"LABEL\"].unique()"
   ]
  },
  {
   "cell_type": "code",
   "execution_count": 105,
   "metadata": {},
   "outputs": [],
   "source": [
    "a=pd.read_csv(outfile_path+\"LSTM_covariates_test.csv\")\n",
    "b=pd.read_csv(outfile_path+\"LSTM_tensor_test.csv\") "
   ]
  },
  {
   "cell_type": "code",
   "execution_count": 106,
   "metadata": {},
   "outputs": [
    {
     "data": {
      "text/plain": [
       "2127"
      ]
     },
     "execution_count": 106,
     "metadata": {},
     "output_type": "execute_result"
    }
   ],
   "source": [
    "len(a.index)"
   ]
  },
  {
   "cell_type": "code",
   "execution_count": 107,
   "metadata": {},
   "outputs": [
    {
     "data": {
      "text/plain": [
       "2127"
      ]
     },
     "execution_count": 107,
     "metadata": {},
     "output_type": "execute_result"
    }
   ],
   "source": [
    "b[\"UNIQUE_ID\"].nunique()"
   ]
  },
  {
   "cell_type": "code",
   "execution_count": 108,
   "metadata": {},
   "outputs": [
    {
     "data": {
      "text/plain": [
       "96"
      ]
     },
     "execution_count": 108,
     "metadata": {},
     "output_type": "execute_result"
    }
   ],
   "source": [
    "len(merged_df[\"LABEL\"].unique())"
   ]
  },
  {
   "cell_type": "code",
   "execution_count": 109,
   "metadata": {},
   "outputs": [
    {
     "data": {
      "text/plain": [
       "0.05962794510522801"
      ]
     },
     "execution_count": 109,
     "metadata": {},
     "output_type": "execute_result"
    }
   ],
   "source": [
    "len(merged_df.index)/(96*merged_df[\"SUBJECT_ID\"].nunique()*48*2)"
   ]
  },
  {
   "cell_type": "code",
   "execution_count": 110,
   "metadata": {},
   "outputs": [
    {
     "data": {
      "text/html": [
       "<div>\n",
       "<style scoped>\n",
       "    .dataframe tbody tr th:only-of-type {\n",
       "        vertical-align: middle;\n",
       "    }\n",
       "\n",
       "    .dataframe tbody tr th {\n",
       "        vertical-align: top;\n",
       "    }\n",
       "\n",
       "    .dataframe thead th {\n",
       "        text-align: right;\n",
       "    }\n",
       "</style>\n",
       "<table border=\"1\" class=\"dataframe\">\n",
       "  <thead>\n",
       "    <tr style=\"text-align: right;\">\n",
       "      <th></th>\n",
       "      <th>level_0</th>\n",
       "      <th>CHARTTIME</th>\n",
       "      <th>HADM_ID</th>\n",
       "      <th>LABEL</th>\n",
       "      <th>Origin</th>\n",
       "      <th>SUBJECT_ID</th>\n",
       "      <th>VALUENUM</th>\n",
       "      <th>index</th>\n",
       "    </tr>\n",
       "  </thead>\n",
       "  <tbody>\n",
       "    <tr>\n",
       "      <td>0</td>\n",
       "      <td>0</td>\n",
       "      <td>2133-02-05 06:29:00</td>\n",
       "      <td>139787.0</td>\n",
       "      <td>Potassium Chloride</td>\n",
       "      <td>Inputs</td>\n",
       "      <td>27063</td>\n",
       "      <td>1.354906</td>\n",
       "      <td>0.0</td>\n",
       "    </tr>\n",
       "    <tr>\n",
       "      <td>1</td>\n",
       "      <td>1</td>\n",
       "      <td>2133-02-05 06:59:00</td>\n",
       "      <td>139787.0</td>\n",
       "      <td>Potassium Chloride</td>\n",
       "      <td>Inputs</td>\n",
       "      <td>27063</td>\n",
       "      <td>1.354906</td>\n",
       "      <td>1.0</td>\n",
       "    </tr>\n",
       "    <tr>\n",
       "      <td>2</td>\n",
       "      <td>2</td>\n",
       "      <td>2133-02-05 07:29:00</td>\n",
       "      <td>139787.0</td>\n",
       "      <td>Potassium Chloride</td>\n",
       "      <td>Inputs</td>\n",
       "      <td>27063</td>\n",
       "      <td>1.354906</td>\n",
       "      <td>2.0</td>\n",
       "    </tr>\n",
       "    <tr>\n",
       "      <td>3</td>\n",
       "      <td>3</td>\n",
       "      <td>2133-02-05 07:59:00</td>\n",
       "      <td>139787.0</td>\n",
       "      <td>Potassium Chloride</td>\n",
       "      <td>Inputs</td>\n",
       "      <td>27063</td>\n",
       "      <td>1.354906</td>\n",
       "      <td>3.0</td>\n",
       "    </tr>\n",
       "    <tr>\n",
       "      <td>4</td>\n",
       "      <td>4</td>\n",
       "      <td>2133-02-05 08:29:00</td>\n",
       "      <td>139787.0</td>\n",
       "      <td>Potassium Chloride</td>\n",
       "      <td>Inputs</td>\n",
       "      <td>27063</td>\n",
       "      <td>1.354906</td>\n",
       "      <td>4.0</td>\n",
       "    </tr>\n",
       "  </tbody>\n",
       "</table>\n",
       "</div>"
      ],
      "text/plain": [
       "   level_0           CHARTTIME   HADM_ID               LABEL  Origin  \\\n",
       "0        0 2133-02-05 06:29:00  139787.0  Potassium Chloride  Inputs   \n",
       "1        1 2133-02-05 06:59:00  139787.0  Potassium Chloride  Inputs   \n",
       "2        2 2133-02-05 07:29:00  139787.0  Potassium Chloride  Inputs   \n",
       "3        3 2133-02-05 07:59:00  139787.0  Potassium Chloride  Inputs   \n",
       "4        4 2133-02-05 08:29:00  139787.0  Potassium Chloride  Inputs   \n",
       "\n",
       "   SUBJECT_ID  VALUENUM  index  \n",
       "0       27063  1.354906    0.0  \n",
       "1       27063  1.354906    1.0  \n",
       "2       27063  1.354906    2.0  \n",
       "3       27063  1.354906    3.0  \n",
       "4       27063  1.354906    4.0  "
      ]
     },
     "execution_count": 110,
     "metadata": {},
     "output_type": "execute_result"
    }
   ],
   "source": [
    "merged_df.head()"
   ]
  },
  {
   "cell_type": "code",
   "execution_count": 111,
   "metadata": {},
   "outputs": [
    {
     "data": {
      "text/plain": [
       "array(['D5W Drug', 'Docusate Sodium Drug', 'Magnesium Sulfate Drug',\n",
       "       'Potassium Chloride Drug', 'Pantoprazole Drug', 'Bisacodyl Drug',\n",
       "       'Humulin-R Insulin Drug', 'Aspirin Drug',\n",
       "       'Sodium Chloride 0.9%  Flush Drug', 'Metoprolol Tartrate Drug'],\n",
       "      dtype=object)"
      ]
     },
     "execution_count": 111,
     "metadata": {},
     "output_type": "execute_result"
    }
   ],
   "source": [
    "presc_df[\"LABEL\"].unique()"
   ]
  },
  {
   "cell_type": "code",
   "execution_count": 112,
   "metadata": {},
   "outputs": [
    {
     "data": {
      "text/plain": [
       "96"
      ]
     },
     "execution_count": 112,
     "metadata": {},
     "output_type": "execute_result"
    }
   ],
   "source": [
    "merged_df[\"LABEL\"].nunique()"
   ]
  },
  {
   "cell_type": "code",
   "execution_count": null,
   "metadata": {},
   "outputs": [],
   "source": []
  },
  {
   "cell_type": "code",
   "execution_count": null,
   "metadata": {},
   "outputs": [],
   "source": []
  },
  {
   "cell_type": "code",
   "execution_count": null,
   "metadata": {},
   "outputs": [],
   "source": []
  },
  {
   "cell_type": "code",
   "execution_count": null,
   "metadata": {},
   "outputs": [],
   "source": []
  },
  {
   "cell_type": "code",
   "execution_count": null,
   "metadata": {},
   "outputs": [],
   "source": []
  },
  {
   "cell_type": "code",
   "execution_count": null,
   "metadata": {},
   "outputs": [],
   "source": []
  },
  {
   "cell_type": "code",
   "execution_count": null,
   "metadata": {},
   "outputs": [],
   "source": []
  },
  {
   "cell_type": "code",
   "execution_count": null,
   "metadata": {},
   "outputs": [],
   "source": []
  },
  {
   "cell_type": "code",
   "execution_count": null,
   "metadata": {},
   "outputs": [],
   "source": []
  },
  {
   "cell_type": "code",
   "execution_count": null,
   "metadata": {},
   "outputs": [],
   "source": []
  },
  {
   "cell_type": "code",
   "execution_count": null,
   "metadata": {},
   "outputs": [],
   "source": []
  },
  {
   "cell_type": "code",
   "execution_count": null,
   "metadata": {},
   "outputs": [],
   "source": []
  },
  {
   "cell_type": "code",
   "execution_count": null,
   "metadata": {},
   "outputs": [],
   "source": []
  },
  {
   "cell_type": "code",
   "execution_count": null,
   "metadata": {},
   "outputs": [],
   "source": []
  },
  {
   "cell_type": "code",
   "execution_count": null,
   "metadata": {},
   "outputs": [],
   "source": []
  },
  {
   "cell_type": "code",
   "execution_count": null,
   "metadata": {},
   "outputs": [],
   "source": []
  },
  {
   "cell_type": "code",
   "execution_count": null,
   "metadata": {},
   "outputs": [],
   "source": []
  },
  {
   "cell_type": "code",
   "execution_count": null,
   "metadata": {},
   "outputs": [],
   "source": []
  },
  {
   "cell_type": "code",
   "execution_count": null,
   "metadata": {},
   "outputs": [],
   "source": []
  },
  {
   "cell_type": "code",
   "execution_count": null,
   "metadata": {},
   "outputs": [],
   "source": []
  },
  {
   "cell_type": "code",
   "execution_count": null,
   "metadata": {},
   "outputs": [],
   "source": []
  }
 ],
 "metadata": {
  "kernelspec": {
   "display_name": "Python 3",
   "language": "python",
   "name": "python3"
  },
  "language_info": {
   "codemirror_mode": {
    "name": "ipython",
    "version": 3
   },
   "file_extension": ".py",
   "mimetype": "text/x-python",
   "name": "python",
   "nbconvert_exporter": "python",
   "pygments_lexer": "ipython3",
   "version": "3.6.8"
  }
 },
 "nbformat": 4,
 "nbformat_minor": 2
}
